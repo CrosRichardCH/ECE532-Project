{
 "cells": [
  {
   "cell_type": "code",
   "execution_count": 1,
   "metadata": {},
   "outputs": [],
   "source": [
    "import pandas as pd\n",
    "import numpy as np\n",
    "import seaborn as sns\n",
    "import matplotlib.pyplot as plt\n",
    "from sklearn.model_selection import train_test_split"
   ]
  },
  {
   "cell_type": "code",
   "execution_count": 2,
   "metadata": {},
   "outputs": [
    {
     "data": {
      "text/html": [
       "<div>\n",
       "<style scoped>\n",
       "    .dataframe tbody tr th:only-of-type {\n",
       "        vertical-align: middle;\n",
       "    }\n",
       "\n",
       "    .dataframe tbody tr th {\n",
       "        vertical-align: top;\n",
       "    }\n",
       "\n",
       "    .dataframe thead th {\n",
       "        text-align: right;\n",
       "    }\n",
       "</style>\n",
       "<table border=\"1\" class=\"dataframe\">\n",
       "  <thead>\n",
       "    <tr style=\"text-align: right;\">\n",
       "      <th></th>\n",
       "      <th>Formatted Date</th>\n",
       "      <th>Summary</th>\n",
       "      <th>Precip Type</th>\n",
       "      <th>Temperature (C)</th>\n",
       "      <th>Apparent Temperature (C)</th>\n",
       "      <th>Humidity</th>\n",
       "      <th>Wind Speed (km/h)</th>\n",
       "      <th>Wind Bearing (degrees)</th>\n",
       "      <th>Visibility (km)</th>\n",
       "      <th>Loud Cover</th>\n",
       "      <th>Pressure (millibars)</th>\n",
       "      <th>Daily Summary</th>\n",
       "    </tr>\n",
       "  </thead>\n",
       "  <tbody>\n",
       "    <tr>\n",
       "      <th>0</th>\n",
       "      <td>2006-04-01 00:00:00.000 +0200</td>\n",
       "      <td>Partly Cloudy</td>\n",
       "      <td>rain</td>\n",
       "      <td>9.472222</td>\n",
       "      <td>7.388889</td>\n",
       "      <td>0.89</td>\n",
       "      <td>14.1197</td>\n",
       "      <td>251.0</td>\n",
       "      <td>15.8263</td>\n",
       "      <td>0.0</td>\n",
       "      <td>1015.13</td>\n",
       "      <td>Partly cloudy throughout the day.</td>\n",
       "    </tr>\n",
       "    <tr>\n",
       "      <th>1</th>\n",
       "      <td>2006-04-01 01:00:00.000 +0200</td>\n",
       "      <td>Partly Cloudy</td>\n",
       "      <td>rain</td>\n",
       "      <td>9.355556</td>\n",
       "      <td>7.227778</td>\n",
       "      <td>0.86</td>\n",
       "      <td>14.2646</td>\n",
       "      <td>259.0</td>\n",
       "      <td>15.8263</td>\n",
       "      <td>0.0</td>\n",
       "      <td>1015.63</td>\n",
       "      <td>Partly cloudy throughout the day.</td>\n",
       "    </tr>\n",
       "    <tr>\n",
       "      <th>2</th>\n",
       "      <td>2006-04-01 02:00:00.000 +0200</td>\n",
       "      <td>Mostly Cloudy</td>\n",
       "      <td>rain</td>\n",
       "      <td>9.377778</td>\n",
       "      <td>9.377778</td>\n",
       "      <td>0.89</td>\n",
       "      <td>3.9284</td>\n",
       "      <td>204.0</td>\n",
       "      <td>14.9569</td>\n",
       "      <td>0.0</td>\n",
       "      <td>1015.94</td>\n",
       "      <td>Partly cloudy throughout the day.</td>\n",
       "    </tr>\n",
       "    <tr>\n",
       "      <th>3</th>\n",
       "      <td>2006-04-01 03:00:00.000 +0200</td>\n",
       "      <td>Partly Cloudy</td>\n",
       "      <td>rain</td>\n",
       "      <td>8.288889</td>\n",
       "      <td>5.944444</td>\n",
       "      <td>0.83</td>\n",
       "      <td>14.1036</td>\n",
       "      <td>269.0</td>\n",
       "      <td>15.8263</td>\n",
       "      <td>0.0</td>\n",
       "      <td>1016.41</td>\n",
       "      <td>Partly cloudy throughout the day.</td>\n",
       "    </tr>\n",
       "    <tr>\n",
       "      <th>4</th>\n",
       "      <td>2006-04-01 04:00:00.000 +0200</td>\n",
       "      <td>Mostly Cloudy</td>\n",
       "      <td>rain</td>\n",
       "      <td>8.755556</td>\n",
       "      <td>6.977778</td>\n",
       "      <td>0.83</td>\n",
       "      <td>11.0446</td>\n",
       "      <td>259.0</td>\n",
       "      <td>15.8263</td>\n",
       "      <td>0.0</td>\n",
       "      <td>1016.51</td>\n",
       "      <td>Partly cloudy throughout the day.</td>\n",
       "    </tr>\n",
       "    <tr>\n",
       "      <th>...</th>\n",
       "      <td>...</td>\n",
       "      <td>...</td>\n",
       "      <td>...</td>\n",
       "      <td>...</td>\n",
       "      <td>...</td>\n",
       "      <td>...</td>\n",
       "      <td>...</td>\n",
       "      <td>...</td>\n",
       "      <td>...</td>\n",
       "      <td>...</td>\n",
       "      <td>...</td>\n",
       "      <td>...</td>\n",
       "    </tr>\n",
       "    <tr>\n",
       "      <th>96448</th>\n",
       "      <td>2016-09-09 19:00:00.000 +0200</td>\n",
       "      <td>Partly Cloudy</td>\n",
       "      <td>rain</td>\n",
       "      <td>26.016667</td>\n",
       "      <td>26.016667</td>\n",
       "      <td>0.43</td>\n",
       "      <td>10.9963</td>\n",
       "      <td>31.0</td>\n",
       "      <td>16.1000</td>\n",
       "      <td>0.0</td>\n",
       "      <td>1014.36</td>\n",
       "      <td>Partly cloudy starting in the morning.</td>\n",
       "    </tr>\n",
       "    <tr>\n",
       "      <th>96449</th>\n",
       "      <td>2016-09-09 20:00:00.000 +0200</td>\n",
       "      <td>Partly Cloudy</td>\n",
       "      <td>rain</td>\n",
       "      <td>24.583333</td>\n",
       "      <td>24.583333</td>\n",
       "      <td>0.48</td>\n",
       "      <td>10.0947</td>\n",
       "      <td>20.0</td>\n",
       "      <td>15.5526</td>\n",
       "      <td>0.0</td>\n",
       "      <td>1015.16</td>\n",
       "      <td>Partly cloudy starting in the morning.</td>\n",
       "    </tr>\n",
       "    <tr>\n",
       "      <th>96450</th>\n",
       "      <td>2016-09-09 21:00:00.000 +0200</td>\n",
       "      <td>Partly Cloudy</td>\n",
       "      <td>rain</td>\n",
       "      <td>22.038889</td>\n",
       "      <td>22.038889</td>\n",
       "      <td>0.56</td>\n",
       "      <td>8.9838</td>\n",
       "      <td>30.0</td>\n",
       "      <td>16.1000</td>\n",
       "      <td>0.0</td>\n",
       "      <td>1015.66</td>\n",
       "      <td>Partly cloudy starting in the morning.</td>\n",
       "    </tr>\n",
       "    <tr>\n",
       "      <th>96451</th>\n",
       "      <td>2016-09-09 22:00:00.000 +0200</td>\n",
       "      <td>Partly Cloudy</td>\n",
       "      <td>rain</td>\n",
       "      <td>21.522222</td>\n",
       "      <td>21.522222</td>\n",
       "      <td>0.60</td>\n",
       "      <td>10.5294</td>\n",
       "      <td>20.0</td>\n",
       "      <td>16.1000</td>\n",
       "      <td>0.0</td>\n",
       "      <td>1015.95</td>\n",
       "      <td>Partly cloudy starting in the morning.</td>\n",
       "    </tr>\n",
       "    <tr>\n",
       "      <th>96452</th>\n",
       "      <td>2016-09-09 23:00:00.000 +0200</td>\n",
       "      <td>Partly Cloudy</td>\n",
       "      <td>rain</td>\n",
       "      <td>20.438889</td>\n",
       "      <td>20.438889</td>\n",
       "      <td>0.61</td>\n",
       "      <td>5.8765</td>\n",
       "      <td>39.0</td>\n",
       "      <td>15.5204</td>\n",
       "      <td>0.0</td>\n",
       "      <td>1016.16</td>\n",
       "      <td>Partly cloudy starting in the morning.</td>\n",
       "    </tr>\n",
       "  </tbody>\n",
       "</table>\n",
       "<p>96453 rows × 12 columns</p>\n",
       "</div>"
      ],
      "text/plain": [
       "                      Formatted Date        Summary Precip Type  \\\n",
       "0      2006-04-01 00:00:00.000 +0200  Partly Cloudy        rain   \n",
       "1      2006-04-01 01:00:00.000 +0200  Partly Cloudy        rain   \n",
       "2      2006-04-01 02:00:00.000 +0200  Mostly Cloudy        rain   \n",
       "3      2006-04-01 03:00:00.000 +0200  Partly Cloudy        rain   \n",
       "4      2006-04-01 04:00:00.000 +0200  Mostly Cloudy        rain   \n",
       "...                              ...            ...         ...   \n",
       "96448  2016-09-09 19:00:00.000 +0200  Partly Cloudy        rain   \n",
       "96449  2016-09-09 20:00:00.000 +0200  Partly Cloudy        rain   \n",
       "96450  2016-09-09 21:00:00.000 +0200  Partly Cloudy        rain   \n",
       "96451  2016-09-09 22:00:00.000 +0200  Partly Cloudy        rain   \n",
       "96452  2016-09-09 23:00:00.000 +0200  Partly Cloudy        rain   \n",
       "\n",
       "       Temperature (C)  Apparent Temperature (C)  Humidity  Wind Speed (km/h)  \\\n",
       "0             9.472222                  7.388889      0.89            14.1197   \n",
       "1             9.355556                  7.227778      0.86            14.2646   \n",
       "2             9.377778                  9.377778      0.89             3.9284   \n",
       "3             8.288889                  5.944444      0.83            14.1036   \n",
       "4             8.755556                  6.977778      0.83            11.0446   \n",
       "...                ...                       ...       ...                ...   \n",
       "96448        26.016667                 26.016667      0.43            10.9963   \n",
       "96449        24.583333                 24.583333      0.48            10.0947   \n",
       "96450        22.038889                 22.038889      0.56             8.9838   \n",
       "96451        21.522222                 21.522222      0.60            10.5294   \n",
       "96452        20.438889                 20.438889      0.61             5.8765   \n",
       "\n",
       "       Wind Bearing (degrees)  Visibility (km)  Loud Cover  \\\n",
       "0                       251.0          15.8263         0.0   \n",
       "1                       259.0          15.8263         0.0   \n",
       "2                       204.0          14.9569         0.0   \n",
       "3                       269.0          15.8263         0.0   \n",
       "4                       259.0          15.8263         0.0   \n",
       "...                       ...              ...         ...   \n",
       "96448                    31.0          16.1000         0.0   \n",
       "96449                    20.0          15.5526         0.0   \n",
       "96450                    30.0          16.1000         0.0   \n",
       "96451                    20.0          16.1000         0.0   \n",
       "96452                    39.0          15.5204         0.0   \n",
       "\n",
       "       Pressure (millibars)                           Daily Summary  \n",
       "0                   1015.13       Partly cloudy throughout the day.  \n",
       "1                   1015.63       Partly cloudy throughout the day.  \n",
       "2                   1015.94       Partly cloudy throughout the day.  \n",
       "3                   1016.41       Partly cloudy throughout the day.  \n",
       "4                   1016.51       Partly cloudy throughout the day.  \n",
       "...                     ...                                     ...  \n",
       "96448               1014.36  Partly cloudy starting in the morning.  \n",
       "96449               1015.16  Partly cloudy starting in the morning.  \n",
       "96450               1015.66  Partly cloudy starting in the morning.  \n",
       "96451               1015.95  Partly cloudy starting in the morning.  \n",
       "96452               1016.16  Partly cloudy starting in the morning.  \n",
       "\n",
       "[96453 rows x 12 columns]"
      ]
     },
     "execution_count": 2,
     "metadata": {},
     "output_type": "execute_result"
    }
   ],
   "source": [
    "df = pd.read_csv(\"weatherHistory.csv\")\n",
    "df"
   ]
  },
  {
   "cell_type": "code",
   "execution_count": 3,
   "metadata": {},
   "outputs": [
    {
     "name": "stdout",
     "output_type": "stream",
     "text": [
      "Formatted Date                0\n",
      "Summary                       0\n",
      "Precip Type                 517\n",
      "Temperature (C)               0\n",
      "Apparent Temperature (C)      0\n",
      "Humidity                      0\n",
      "Wind Speed (km/h)             0\n",
      "Wind Bearing (degrees)        0\n",
      "Visibility (km)               0\n",
      "Loud Cover                    0\n",
      "Pressure (millibars)          0\n",
      "Daily Summary                 0\n",
      "dtype: int64\n"
     ]
    }
   ],
   "source": [
    "pd.isnull(df)\n",
    "print (np.sum(pd.isnull(df)))"
   ]
  },
  {
   "cell_type": "code",
   "execution_count": 4,
   "metadata": {},
   "outputs": [],
   "source": [
    "df = df.dropna()"
   ]
  },
  {
   "cell_type": "code",
   "execution_count": 5,
   "metadata": {},
   "outputs": [
    {
     "name": "stderr",
     "output_type": "stream",
     "text": [
      "c:\\users\\97439\\appdata\\local\\programs\\python\\python38\\lib\\site-packages\\seaborn\\_decorators.py:36: FutureWarning: Pass the following variable as a keyword arg: x. From version 0.12, the only valid positional argument will be `data`, and passing other arguments without an explicit keyword will result in an error or misinterpretation.\n",
      "  warnings.warn(\n"
     ]
    },
    {
     "data": {
      "text/plain": [
       "<AxesSubplot:xlabel='Summary', ylabel='count'>"
      ]
     },
     "execution_count": 5,
     "metadata": {},
     "output_type": "execute_result"
    },
    {
     "data": {
      "image/png": "[encoded data removed]",
      "text/plain": [
       "<Figure size 432x288 with 1 Axes>"
      ]
     },
     "metadata": {
      "needs_background": "light"
     },
     "output_type": "display_data"
    }
   ],
   "source": [
    "sns.countplot(df['Summary'])"
   ]
  },
  {
   "cell_type": "code",
   "execution_count": 6,
   "metadata": {
    "scrolled": true
   },
   "outputs": [
    {
     "name": "stdout",
     "output_type": "stream",
     "text": [
      "Summary\n",
      "-1    36387\n",
      " 1    59549\n",
      "Name: Summary, dtype: int64\n"
     ]
    },
    {
     "name": "stderr",
     "output_type": "stream",
     "text": [
      "c:\\users\\97439\\appdata\\local\\programs\\python\\python38\\lib\\site-packages\\pandas\\core\\indexing.py:670: SettingWithCopyWarning: \n",
      "A value is trying to be set on a copy of a slice from a DataFrame\n",
      "\n",
      "See the caveats in the documentation: https://pandas.pydata.org/pandas-docs/stable/user_guide/indexing.html#returning-a-view-versus-a-copy\n",
      "  iloc._setitem_with_indexer(indexer, value)\n",
      "<ipython-input-6-8e3c031a0a4c>:1: SettingWithCopyWarning: \n",
      "A value is trying to be set on a copy of a slice from a DataFrame\n",
      "\n",
      "See the caveats in the documentation: https://pandas.pydata.org/pandas-docs/stable/user_guide/indexing.html#returning-a-view-versus-a-copy\n",
      "  df['Summary'].loc[df['Summary'] == 'Partly Cloudy'] = 1\n",
      "<ipython-input-6-8e3c031a0a4c>:2: SettingWithCopyWarning: \n",
      "A value is trying to be set on a copy of a slice from a DataFrame\n",
      "\n",
      "See the caveats in the documentation: https://pandas.pydata.org/pandas-docs/stable/user_guide/indexing.html#returning-a-view-versus-a-copy\n",
      "  df['Summary'].loc[df['Summary'] == 'Mostly Cloudy'] = 1\n",
      "<ipython-input-6-8e3c031a0a4c>:3: SettingWithCopyWarning: \n",
      "A value is trying to be set on a copy of a slice from a DataFrame\n",
      "\n",
      "See the caveats in the documentation: https://pandas.pydata.org/pandas-docs/stable/user_guide/indexing.html#returning-a-view-versus-a-copy\n",
      "  df['Summary'].loc[df['Summary'] != 1] = -1\n"
     ]
    }
   ],
   "source": [
    "df['Summary'].loc[df['Summary'] == 'Partly Cloudy'] = 1\n",
    "df['Summary'].loc[df['Summary'] == 'Mostly Cloudy'] = 1\n",
    "df['Summary'].loc[df['Summary'] != 1] = -1\n",
    "print(df.groupby('Summary')['Summary'].count())"
   ]
  },
  {
   "cell_type": "code",
   "execution_count": 7,
   "metadata": {},
   "outputs": [
    {
     "name": "stderr",
     "output_type": "stream",
     "text": [
      "c:\\users\\97439\\appdata\\local\\programs\\python\\python38\\lib\\site-packages\\seaborn\\_decorators.py:36: FutureWarning: Pass the following variable as a keyword arg: x. From version 0.12, the only valid positional argument will be `data`, and passing other arguments without an explicit keyword will result in an error or misinterpretation.\n",
      "  warnings.warn(\n"
     ]
    },
    {
     "data": {
      "text/plain": [
       "<AxesSubplot:xlabel='Summary', ylabel='count'>"
      ]
     },
     "execution_count": 7,
     "metadata": {},
     "output_type": "execute_result"
    },
    {
     "data": {
      "image/png": "[encoded data removed]",
      "text/plain": [
       "<Figure size 432x288 with 1 Axes>"
      ]
     },
     "metadata": {
      "needs_background": "light"
     },
     "output_type": "display_data"
    }
   ],
   "source": [
    "sns.countplot(df['Summary'])"
   ]
  },
  {
   "cell_type": "code",
   "execution_count": 8,
   "metadata": {},
   "outputs": [
    {
     "name": "stdout",
     "output_type": "stream",
     "text": [
      "Precip Type\n",
      "rain    85224\n",
      "snow    10712\n",
      "Name: Precip Type, dtype: int64\n"
     ]
    }
   ],
   "source": [
    "print(df.groupby('Precip Type')['Precip Type'].count())"
   ]
  },
  {
   "cell_type": "code",
   "execution_count": 9,
   "metadata": {},
   "outputs": [
    {
     "name": "stdout",
     "output_type": "stream",
     "text": [
      "Precip Type\n",
      "1.0    85224\n",
      "2.0    10712\n",
      "Name: Precip Type, dtype: int64\n"
     ]
    },
    {
     "name": "stderr",
     "output_type": "stream",
     "text": [
      "c:\\users\\97439\\appdata\\local\\programs\\python\\python38\\lib\\site-packages\\pandas\\core\\indexing.py:670: SettingWithCopyWarning: \n",
      "A value is trying to be set on a copy of a slice from a DataFrame\n",
      "\n",
      "See the caveats in the documentation: https://pandas.pydata.org/pandas-docs/stable/user_guide/indexing.html#returning-a-view-versus-a-copy\n",
      "  iloc._setitem_with_indexer(indexer, value)\n",
      "<ipython-input-9-e01645d8ae4f>:1: SettingWithCopyWarning: \n",
      "A value is trying to be set on a copy of a slice from a DataFrame\n",
      "\n",
      "See the caveats in the documentation: https://pandas.pydata.org/pandas-docs/stable/user_guide/indexing.html#returning-a-view-versus-a-copy\n",
      "  df['Precip Type'].loc[df['Precip Type'] == 'rain'] = 1.\n",
      "<ipython-input-9-e01645d8ae4f>:2: SettingWithCopyWarning: \n",
      "A value is trying to be set on a copy of a slice from a DataFrame\n",
      "\n",
      "See the caveats in the documentation: https://pandas.pydata.org/pandas-docs/stable/user_guide/indexing.html#returning-a-view-versus-a-copy\n",
      "  df['Precip Type'].loc[df['Precip Type'] == 'snow'] = 2.\n"
     ]
    }
   ],
   "source": [
    "df['Precip Type'].loc[df['Precip Type'] == 'rain'] = 1.\n",
    "df['Precip Type'].loc[df['Precip Type'] == 'snow'] = 2.\n",
    "print(df.groupby('Precip Type')['Precip Type'].count())"
   ]
  },
  {
   "cell_type": "code",
   "execution_count": 10,
   "metadata": {},
   "outputs": [
    {
     "name": "stdout",
     "output_type": "stream",
     "text": [
      "Daily Summary\n",
      "Breezy and foggy starting in the evening.            24\n",
      "Breezy and foggy until morning.                      24\n",
      "Breezy and mostly cloudy overnight.                  24\n",
      "Breezy and partly cloudy in the afternoon.           24\n",
      "Breezy in the morning and foggy in the evening.      24\n",
      "                                                   ... \n",
      "Partly cloudy until night.                         6169\n",
      "Rain throughout the day.                             24\n",
      "Rain until afternoon.                                17\n",
      "Rain until morning.                                  12\n",
      "Windy in the afternoon.                              24\n",
      "Name: Daily Summary, Length: 214, dtype: int64\n"
     ]
    }
   ],
   "source": [
    "print(df.groupby('Daily Summary')['Daily Summary'].count())"
   ]
  },
  {
   "cell_type": "code",
   "execution_count": 11,
   "metadata": {},
   "outputs": [
    {
     "name": "stdout",
     "output_type": "stream",
     "text": [
      "Loud Cover\n",
      "0.0    95936\n",
      "Name: Loud Cover, dtype: int64\n"
     ]
    }
   ],
   "source": [
    "print(df.groupby('Loud Cover')['Loud Cover'].count())"
   ]
  },
  {
   "cell_type": "code",
   "execution_count": 12,
   "metadata": {},
   "outputs": [],
   "source": [
    "df = df.drop(columns = [\"Formatted Date\"])\n",
    "df = df.drop(columns = [\"Daily Summary\"])\n",
    "df = df.drop(columns = [\"Loud Cover\"])"
   ]
  },
  {
   "cell_type": "code",
   "execution_count": 13,
   "metadata": {
    "scrolled": true
   },
   "outputs": [
    {
     "data": {
      "text/html": [
       "<div>\n",
       "<style scoped>\n",
       "    .dataframe tbody tr th:only-of-type {\n",
       "        vertical-align: middle;\n",
       "    }\n",
       "\n",
       "    .dataframe tbody tr th {\n",
       "        vertical-align: top;\n",
       "    }\n",
       "\n",
       "    .dataframe thead th {\n",
       "        text-align: right;\n",
       "    }\n",
       "</style>\n",
       "<table border=\"1\" class=\"dataframe\">\n",
       "  <thead>\n",
       "    <tr style=\"text-align: right;\">\n",
       "      <th></th>\n",
       "      <th>Summary</th>\n",
       "      <th>Precip Type</th>\n",
       "      <th>Temperature (C)</th>\n",
       "      <th>Apparent Temperature (C)</th>\n",
       "      <th>Humidity</th>\n",
       "      <th>Wind Speed (km/h)</th>\n",
       "      <th>Wind Bearing (degrees)</th>\n",
       "      <th>Visibility (km)</th>\n",
       "      <th>Pressure (millibars)</th>\n",
       "    </tr>\n",
       "  </thead>\n",
       "  <tbody>\n",
       "    <tr>\n",
       "      <th>0</th>\n",
       "      <td>1</td>\n",
       "      <td>1</td>\n",
       "      <td>9.472222</td>\n",
       "      <td>7.388889</td>\n",
       "      <td>0.89</td>\n",
       "      <td>14.1197</td>\n",
       "      <td>251.0</td>\n",
       "      <td>15.8263</td>\n",
       "      <td>1015.13</td>\n",
       "    </tr>\n",
       "    <tr>\n",
       "      <th>1</th>\n",
       "      <td>1</td>\n",
       "      <td>1</td>\n",
       "      <td>9.355556</td>\n",
       "      <td>7.227778</td>\n",
       "      <td>0.86</td>\n",
       "      <td>14.2646</td>\n",
       "      <td>259.0</td>\n",
       "      <td>15.8263</td>\n",
       "      <td>1015.63</td>\n",
       "    </tr>\n",
       "    <tr>\n",
       "      <th>2</th>\n",
       "      <td>1</td>\n",
       "      <td>1</td>\n",
       "      <td>9.377778</td>\n",
       "      <td>9.377778</td>\n",
       "      <td>0.89</td>\n",
       "      <td>3.9284</td>\n",
       "      <td>204.0</td>\n",
       "      <td>14.9569</td>\n",
       "      <td>1015.94</td>\n",
       "    </tr>\n",
       "    <tr>\n",
       "      <th>3</th>\n",
       "      <td>1</td>\n",
       "      <td>1</td>\n",
       "      <td>8.288889</td>\n",
       "      <td>5.944444</td>\n",
       "      <td>0.83</td>\n",
       "      <td>14.1036</td>\n",
       "      <td>269.0</td>\n",
       "      <td>15.8263</td>\n",
       "      <td>1016.41</td>\n",
       "    </tr>\n",
       "    <tr>\n",
       "      <th>4</th>\n",
       "      <td>1</td>\n",
       "      <td>1</td>\n",
       "      <td>8.755556</td>\n",
       "      <td>6.977778</td>\n",
       "      <td>0.83</td>\n",
       "      <td>11.0446</td>\n",
       "      <td>259.0</td>\n",
       "      <td>15.8263</td>\n",
       "      <td>1016.51</td>\n",
       "    </tr>\n",
       "    <tr>\n",
       "      <th>...</th>\n",
       "      <td>...</td>\n",
       "      <td>...</td>\n",
       "      <td>...</td>\n",
       "      <td>...</td>\n",
       "      <td>...</td>\n",
       "      <td>...</td>\n",
       "      <td>...</td>\n",
       "      <td>...</td>\n",
       "      <td>...</td>\n",
       "    </tr>\n",
       "    <tr>\n",
       "      <th>96448</th>\n",
       "      <td>1</td>\n",
       "      <td>1</td>\n",
       "      <td>26.016667</td>\n",
       "      <td>26.016667</td>\n",
       "      <td>0.43</td>\n",
       "      <td>10.9963</td>\n",
       "      <td>31.0</td>\n",
       "      <td>16.1000</td>\n",
       "      <td>1014.36</td>\n",
       "    </tr>\n",
       "    <tr>\n",
       "      <th>96449</th>\n",
       "      <td>1</td>\n",
       "      <td>1</td>\n",
       "      <td>24.583333</td>\n",
       "      <td>24.583333</td>\n",
       "      <td>0.48</td>\n",
       "      <td>10.0947</td>\n",
       "      <td>20.0</td>\n",
       "      <td>15.5526</td>\n",
       "      <td>1015.16</td>\n",
       "    </tr>\n",
       "    <tr>\n",
       "      <th>96450</th>\n",
       "      <td>1</td>\n",
       "      <td>1</td>\n",
       "      <td>22.038889</td>\n",
       "      <td>22.038889</td>\n",
       "      <td>0.56</td>\n",
       "      <td>8.9838</td>\n",
       "      <td>30.0</td>\n",
       "      <td>16.1000</td>\n",
       "      <td>1015.66</td>\n",
       "    </tr>\n",
       "    <tr>\n",
       "      <th>96451</th>\n",
       "      <td>1</td>\n",
       "      <td>1</td>\n",
       "      <td>21.522222</td>\n",
       "      <td>21.522222</td>\n",
       "      <td>0.60</td>\n",
       "      <td>10.5294</td>\n",
       "      <td>20.0</td>\n",
       "      <td>16.1000</td>\n",
       "      <td>1015.95</td>\n",
       "    </tr>\n",
       "    <tr>\n",
       "      <th>96452</th>\n",
       "      <td>1</td>\n",
       "      <td>1</td>\n",
       "      <td>20.438889</td>\n",
       "      <td>20.438889</td>\n",
       "      <td>0.61</td>\n",
       "      <td>5.8765</td>\n",
       "      <td>39.0</td>\n",
       "      <td>15.5204</td>\n",
       "      <td>1016.16</td>\n",
       "    </tr>\n",
       "  </tbody>\n",
       "</table>\n",
       "<p>95936 rows × 9 columns</p>\n",
       "</div>"
      ],
      "text/plain": [
       "      Summary Precip Type  Temperature (C)  Apparent Temperature (C)  \\\n",
       "0           1           1         9.472222                  7.388889   \n",
       "1           1           1         9.355556                  7.227778   \n",
       "2           1           1         9.377778                  9.377778   \n",
       "3           1           1         8.288889                  5.944444   \n",
       "4           1           1         8.755556                  6.977778   \n",
       "...       ...         ...              ...                       ...   \n",
       "96448       1           1        26.016667                 26.016667   \n",
       "96449       1           1        24.583333                 24.583333   \n",
       "96450       1           1        22.038889                 22.038889   \n",
       "96451       1           1        21.522222                 21.522222   \n",
       "96452       1           1        20.438889                 20.438889   \n",
       "\n",
       "       Humidity  Wind Speed (km/h)  Wind Bearing (degrees)  Visibility (km)  \\\n",
       "0          0.89            14.1197                   251.0          15.8263   \n",
       "1          0.86            14.2646                   259.0          15.8263   \n",
       "2          0.89             3.9284                   204.0          14.9569   \n",
       "3          0.83            14.1036                   269.0          15.8263   \n",
       "4          0.83            11.0446                   259.0          15.8263   \n",
       "...         ...                ...                     ...              ...   \n",
       "96448      0.43            10.9963                    31.0          16.1000   \n",
       "96449      0.48            10.0947                    20.0          15.5526   \n",
       "96450      0.56             8.9838                    30.0          16.1000   \n",
       "96451      0.60            10.5294                    20.0          16.1000   \n",
       "96452      0.61             5.8765                    39.0          15.5204   \n",
       "\n",
       "       Pressure (millibars)  \n",
       "0                   1015.13  \n",
       "1                   1015.63  \n",
       "2                   1015.94  \n",
       "3                   1016.41  \n",
       "4                   1016.51  \n",
       "...                     ...  \n",
       "96448               1014.36  \n",
       "96449               1015.16  \n",
       "96450               1015.66  \n",
       "96451               1015.95  \n",
       "96452               1016.16  \n",
       "\n",
       "[95936 rows x 9 columns]"
      ]
     },
     "execution_count": 13,
     "metadata": {},
     "output_type": "execute_result"
    }
   ],
   "source": [
    "df"
   ]
  },
  {
   "cell_type": "code",
   "execution_count": 14,
   "metadata": {},
   "outputs": [
    {
     "name": "stdout",
     "output_type": "stream",
     "text": [
      "      Precip Type  Temperature (C)  Apparent Temperature (C)  Humidity  \\\n",
      "0               1         9.472222                  7.388889      0.89   \n",
      "1               1         9.355556                  7.227778      0.86   \n",
      "2               1         9.377778                  9.377778      0.89   \n",
      "3               1         8.288889                  5.944444      0.83   \n",
      "4               1         8.755556                  6.977778      0.83   \n",
      "...           ...              ...                       ...       ...   \n",
      "96448           1        26.016667                 26.016667      0.43   \n",
      "96449           1        24.583333                 24.583333      0.48   \n",
      "96450           1        22.038889                 22.038889      0.56   \n",
      "96451           1        21.522222                 21.522222      0.60   \n",
      "96452           1        20.438889                 20.438889      0.61   \n",
      "\n",
      "       Wind Speed (km/h)  Wind Bearing (degrees)  Visibility (km)  \\\n",
      "0                14.1197                   251.0          15.8263   \n",
      "1                14.2646                   259.0          15.8263   \n",
      "2                 3.9284                   204.0          14.9569   \n",
      "3                14.1036                   269.0          15.8263   \n",
      "4                11.0446                   259.0          15.8263   \n",
      "...                  ...                     ...              ...   \n",
      "96448            10.9963                    31.0          16.1000   \n",
      "96449            10.0947                    20.0          15.5526   \n",
      "96450             8.9838                    30.0          16.1000   \n",
      "96451            10.5294                    20.0          16.1000   \n",
      "96452             5.8765                    39.0          15.5204   \n",
      "\n",
      "       Pressure (millibars)  \n",
      "0                   1015.13  \n",
      "1                   1015.63  \n",
      "2                   1015.94  \n",
      "3                   1016.41  \n",
      "4                   1016.51  \n",
      "...                     ...  \n",
      "96448               1014.36  \n",
      "96449               1015.16  \n",
      "96450               1015.66  \n",
      "96451               1015.95  \n",
      "96452               1016.16  \n",
      "\n",
      "[95936 rows x 8 columns]\n",
      "0        1\n",
      "1        1\n",
      "2        1\n",
      "3        1\n",
      "4        1\n",
      "        ..\n",
      "96448    1\n",
      "96449    1\n",
      "96450    1\n",
      "96451    1\n",
      "96452    1\n",
      "Name: Summary, Length: 95936, dtype: object\n"
     ]
    }
   ],
   "source": [
    "X = df.drop(columns = [\"Summary\"])\n",
    "y = df[\"Summary\"]\n",
    "print (X)\n",
    "print (y)"
   ]
  },
  {
   "cell_type": "code",
   "execution_count": 15,
   "metadata": {},
   "outputs": [
    {
     "data": {
      "image/png": "[encoded data removed]",
      "text/plain": [
       "<Figure size 864x864 with 2 Axes>"
      ]
     },
     "metadata": {
      "needs_background": "light"
     },
     "output_type": "display_data"
    }
   ],
   "source": [
    "cor = X.corr()\n",
    "\n",
    "plt.figure(figsize = (12,12))\n",
    "sns.heatmap(cor, annot = True, cmap = plt.cm.Reds)\n",
    "plt.show()"
   ]
  },
  {
   "cell_type": "code",
   "execution_count": 16,
   "metadata": {},
   "outputs": [],
   "source": [
    "X = X.drop(columns = [\"Apparent Temperature (C)\"])"
   ]
  },
  {
   "cell_type": "code",
   "execution_count": 17,
   "metadata": {},
   "outputs": [
    {
     "data": {
      "text/plain": [
       "array([[0.        , 0.50697507, 0.89      , ..., 0.69916435, 0.983     ,\n",
       "        0.97013513],\n",
       "       [0.        , 0.50508505, 0.86      , ..., 0.72144847, 0.983     ,\n",
       "        0.97061297],\n",
       "       [0.        , 0.50544505, 0.89      , ..., 0.56824513, 0.929     ,\n",
       "        0.97090923],\n",
       "       ...,\n",
       "       [0.        , 0.71055711, 0.56      , ..., 0.08356546, 1.        ,\n",
       "        0.97064164],\n",
       "       [0.        , 0.70218702, 0.6       , ..., 0.05571031, 1.        ,\n",
       "        0.97091879],\n",
       "       [0.        , 0.68463685, 0.61      , ..., 0.1086351 , 0.964     ,\n",
       "        0.97111948]])"
      ]
     },
     "execution_count": 17,
     "metadata": {},
     "output_type": "execute_result"
    }
   ],
   "source": [
    "from sklearn.preprocessing import MinMaxScaler\n",
    "scaler = MinMaxScaler(feature_range=(0,1))\n",
    "X = scaler.fit_transform(X)\n",
    "X"
   ]
  },
  {
   "cell_type": "code",
   "execution_count": 18,
   "metadata": {},
   "outputs": [],
   "source": [
    "# n = len(X)\n",
    "# X_train = np.asarray(X)[:int(0.7*n),:]\n",
    "# y_train = np.asarray(y)[:int(0.7*n)]\n",
    "# X_train.shape"
   ]
  },
  {
   "cell_type": "code",
   "execution_count": 19,
   "metadata": {},
   "outputs": [],
   "source": [
    "# X_test = np.asarray(X)[int(0.7*n):,:]\n",
    "# y_test = np.asarray(y)[int(0.7*n):]\n",
    "# X_test.shape"
   ]
  },
  {
   "cell_type": "code",
   "execution_count": 20,
   "metadata": {},
   "outputs": [],
   "source": [
    "X_train, X_test, y_train, y_test = train_test_split(X, y, test_size=0.3, random_state=42)\n",
    "X_train = np.asarray(X_train)\n",
    "y_train = np.asarray(y_train)\n",
    "X_test = np.asarray(X_test)\n",
    "y_test = np.asarray(y_test)"
   ]
  },
  {
   "cell_type": "markdown",
   "metadata": {},
   "source": [
    "# linear classifier"
   ]
  },
  {
   "cell_type": "code",
   "execution_count": 21,
   "metadata": {},
   "outputs": [],
   "source": [
    "w = np.linalg.inv(X_train.transpose()@X_train)@X_train.transpose()@y_train\n",
    "y_hat = np.sign(X_train@w)"
   ]
  },
  {
   "cell_type": "code",
   "execution_count": 22,
   "metadata": {
    "scrolled": true
   },
   "outputs": [
    {
     "data": {
      "text/plain": [
       "array([0.72834487])"
      ]
     },
     "execution_count": 22,
     "metadata": {},
     "output_type": "execute_result"
    }
   ],
   "source": [
    "error_rate = np.sum(y_hat != y_train)/y_train.shape\n",
    "accuracy = 1 - error_rate\n",
    "accuracy"
   ]
  },
  {
   "cell_type": "markdown",
   "metadata": {},
   "source": [
    "# SVD "
   ]
  },
  {
   "cell_type": "code",
   "execution_count": 23,
   "metadata": {},
   "outputs": [
    {
     "name": "stdout",
     "output_type": "stream",
     "text": [
      "U = \n",
      "[[-0.004  0.002  0.    ...  0.004 -0.003  0.001]\n",
      " [-0.003  0.003 -0.005 ... -0.008  0.002 -0.002]\n",
      " [-0.004 -0.001  0.001 ...  0.    -0.     0.004]\n",
      " ...\n",
      " [-0.004  0.001 -0.002 ...  0.006 -0.001  0.001]\n",
      " [-0.004  0.001 -0.003 ... -0.001  0.006 -0.001]\n",
      " [-0.004  0.001  0.    ...  0.006 -0.001  0.002]]\n",
      "\n",
      "Singular Values = \n",
      "[411.053  93.188  73.679  60.331  42.853  28.759  24.887]\n",
      "\n",
      "V^T = \n",
      "[[-0.066 -0.345 -0.462 -0.106 -0.341 -0.413 -0.604]\n",
      " [-0.796  0.278 -0.35   0.026 -0.004  0.4   -0.08 ]\n",
      " [-0.076 -0.098 -0.127  0.015  0.934 -0.229 -0.211]\n",
      " [ 0.564  0.03  -0.55   0.052  0.09   0.593 -0.125]\n",
      " [-0.118 -0.563  0.489 -0.098  0.036  0.514 -0.394]\n",
      " [ 0.093  0.399  0.112 -0.881  0.037  0.023 -0.205]\n",
      " [-0.125 -0.564 -0.307 -0.447  0.04   0.025  0.609]]\n",
      "\n"
     ]
    }
   ],
   "source": [
    "U,s,VT = np.linalg.svd(X_train,full_matrices=False)\n",
    "print('U = ',U.round(3), sep=\"\\n\", end='\\n\\n')\n",
    "print('Singular Values = ',s.round(3), sep=\"\\n\", end='\\n\\n')\n",
    "print('V^T = ',VT.round(3), sep=\"\\n\", end='\\n\\n')"
   ]
  },
  {
   "cell_type": "code",
   "execution_count": 24,
   "metadata": {},
   "outputs": [],
   "source": [
    "r = 6\n",
    "w_svd = VT[:r,:].T @ np.diag(1/s[:r]) @ U[:,:r].T @ y_train\n",
    "y_hat_svd = np.sign(X_train@w_svd)"
   ]
  },
  {
   "cell_type": "code",
   "execution_count": 25,
   "metadata": {},
   "outputs": [
    {
     "data": {
      "text/plain": [
       "array([0.71875512])"
      ]
     },
     "execution_count": 25,
     "metadata": {},
     "output_type": "execute_result"
    }
   ],
   "source": [
    "error_rate = np.sum(y_hat_svd != y_train)/y_train.shape\n",
    "accuracy = 1 - error_rate\n",
    "accuracy"
   ]
  },
  {
   "cell_type": "markdown",
   "metadata": {},
   "source": [
    "# regularization"
   ]
  },
  {
   "cell_type": "code",
   "execution_count": 26,
   "metadata": {},
   "outputs": [
    {
     "data": {
      "text/plain": [
       "array([9.76562500e-04, 1.29589385e-03, 1.71964506e-03, 2.28196091e-03,\n",
       "       3.02815142e-03, 4.01834271e-03, 5.33232190e-03, 7.07596613e-03,\n",
       "       9.38977382e-03, 1.24601858e-02, 1.65346080e-02, 2.19413472e-02,\n",
       "       2.91160647e-02, 3.86368811e-02, 5.12709598e-02, 6.80363228e-02,\n",
       "       9.02838809e-02, 1.19806286e-01, 1.58982379e-01, 2.10968870e-01,\n",
       "       2.79954700e-01, 3.71498572e-01, 4.92976861e-01, 6.54177979e-01,\n",
       "       8.68091107e-01, 1.15195282e+00, 1.52863599e+00, 2.02849277e+00,\n",
       "       2.69180039e+00, 3.57200647e+00, 4.74003581e+00, 6.29000526e+00,\n",
       "       8.34680745e+00, 1.10761743e+01, 1.46980313e+01, 1.95042185e+01,\n",
       "       2.58820063e+01, 3.43453008e+01, 4.55760529e+01, 6.04792082e+01,\n",
       "       8.02556253e+01, 1.06498838e+02, 1.41323458e+02, 1.87535565e+02,\n",
       "       2.48858814e+02, 3.30234477e+02, 4.38219601e+02, 5.81515352e+02,\n",
       "       7.71668141e+02, 1.02400000e+03])"
      ]
     },
     "execution_count": 26,
     "metadata": {},
     "output_type": "execute_result"
    }
   ],
   "source": [
    "Lambda = np.logspace(-10,10,num = 50,base = 2)\n",
    "Lambda"
   ]
  },
  {
   "cell_type": "code",
   "execution_count": 27,
   "metadata": {},
   "outputs": [
    {
     "name": "stdout",
     "output_type": "stream",
     "text": [
      "lambda = 0.0009765625 , accuracy = [0.72834487]\n",
      "lambda = 0.0012958938515892147 , accuracy = [0.72834487]\n",
      "lambda = 0.0017196450555768113 , accuracy = [0.72834487]\n",
      "lambda = 0.002281960913344293 , accuracy = [0.72834487]\n",
      "lambda = 0.003028151415981853 , accuracy = [0.72834487]\n",
      "lambda = 0.004018342708891707 , accuracy = [0.72834487]\n",
      "lambda = 0.005332321904671864 , accuracy = [0.72834487]\n",
      "lambda = 0.007075966127061773 , accuracy = [0.72834487]\n",
      "lambda = 0.00938977382206761 , accuracy = [0.72834487]\n",
      "lambda = 0.012460185767762717 , accuracy = [0.72834487]\n",
      "lambda = 0.01653460800112963 , accuracy = [0.72834487]\n",
      "lambda = 0.021941347171432177 , accuracy = [0.72834487]\n",
      "lambda = 0.02911606466052441 , accuracy = [0.72834487]\n",
      "lambda = 0.03863688107627274 , accuracy = [0.72834487]\n",
      "lambda = 0.05127095975047737 , accuracy = [0.72834487]\n",
      "lambda = 0.06803632282185909 , accuracy = [0.72834487]\n",
      "lambda = 0.09028388088789624 , accuracy = [0.72834487]\n",
      "lambda = 0.11980628596760347 , accuracy = [0.72834487]\n",
      "lambda = 0.15898237887196842 , accuracy = [0.72834487]\n",
      "lambda = 0.21096887018620014 , accuracy = [0.72834487]\n",
      "lambda = 0.27995470003304446 , accuracy = [0.72832998]\n",
      "lambda = 0.37149857228423705 , accuracy = [0.72831509]\n",
      "lambda = 0.4929768608740504 , accuracy = [0.72832998]\n",
      "lambda = 0.6541779793740121 , accuracy = [0.72831509]\n",
      "lambda = 0.8680911066274185 , accuracy = [0.7283002]\n",
      "lambda = 1.151952821962495 , accuracy = [0.72828531]\n",
      "lambda = 1.5286359852052918 , accuracy = [0.72827042]\n",
      "lambda = 2.0284927739346554 , accuracy = [0.72827042]\n",
      "lambda = 2.6918003852647128 , accuracy = [0.72825553]\n",
      "lambda = 3.5720064706253014 , accuracy = [0.72825553]\n",
      "lambda = 4.74003581247511 , accuracy = [0.72827042]\n",
      "lambda = 6.290005264075964 , accuracy = [0.72832998]\n",
      "lambda = 8.346807447736152 , accuracy = [0.72837466]\n",
      "lambda = 11.076174286766435 , accuracy = [0.72837466]\n",
      "lambda = 14.698031265127607 , accuracy = [0.72834487]\n",
      "lambda = 19.504218467271617 , accuracy = [0.72831509]\n",
      "lambda = 25.88200631479307 , accuracy = [0.7281364]\n",
      "lambda = 34.34530083853678 , accuracy = [0.72810662]\n",
      "lambda = 45.57605292814517 , accuracy = [0.72786836]\n",
      "lambda = 60.479208211750866 , accuracy = [0.72777902]\n",
      "lambda = 80.2556252882861 , accuracy = [0.72765989]\n",
      "lambda = 106.49883787933477 , accuracy = [0.72718338]\n",
      "lambda = 141.32345775024794 , accuracy = [0.72701958]\n",
      "lambda = 187.53556478348744 , accuracy = [0.72679622]\n",
      "lambda = 248.85881380580645 , accuracy = [0.72611124]\n",
      "lambda = 330.23447728612325 , accuracy = [0.7256794]\n",
      "lambda = 438.21960058661415 , accuracy = [0.72556027]\n",
      "lambda = 581.5153521111805 , accuracy = [0.72489018]\n",
      "lambda = 771.6681414713509 , accuracy = [0.72414563]\n",
      "lambda = 1024.0 , accuracy = [0.72343087]\n"
     ]
    }
   ],
   "source": [
    "for lam in Lambda:\n",
    "    w = np.linalg.inv(X_train.transpose()@X_train+lam*np.eye(X_train.shape[1]))@X_train.transpose()@y_train\n",
    "    y_hat = np.sign(X_train@w)\n",
    "    error_rate = np.sum(y_hat != y_train)/y_train.shape\n",
    "    accuracy = 1 - error_rate\n",
    "    print (\"lambda =\", lam, \", accuracy =\", accuracy)"
   ]
  },
  {
   "cell_type": "markdown",
   "metadata": {},
   "source": [
    "# SVD For Regularization"
   ]
  },
  {
   "cell_type": "code",
   "execution_count": 28,
   "metadata": {},
   "outputs": [],
   "source": [
    "U,s,VT = np.linalg.svd(X_train,full_matrices=False)"
   ]
  },
  {
   "cell_type": "code",
   "execution_count": 29,
   "metadata": {},
   "outputs": [
    {
     "data": {
      "text/plain": [
       "array([9.76562500e-04, 1.29589385e-03, 1.71964506e-03, 2.28196091e-03,\n",
       "       3.02815142e-03, 4.01834271e-03, 5.33232190e-03, 7.07596613e-03,\n",
       "       9.38977382e-03, 1.24601858e-02, 1.65346080e-02, 2.19413472e-02,\n",
       "       2.91160647e-02, 3.86368811e-02, 5.12709598e-02, 6.80363228e-02,\n",
       "       9.02838809e-02, 1.19806286e-01, 1.58982379e-01, 2.10968870e-01,\n",
       "       2.79954700e-01, 3.71498572e-01, 4.92976861e-01, 6.54177979e-01,\n",
       "       8.68091107e-01, 1.15195282e+00, 1.52863599e+00, 2.02849277e+00,\n",
       "       2.69180039e+00, 3.57200647e+00, 4.74003581e+00, 6.29000526e+00,\n",
       "       8.34680745e+00, 1.10761743e+01, 1.46980313e+01, 1.95042185e+01,\n",
       "       2.58820063e+01, 3.43453008e+01, 4.55760529e+01, 6.04792082e+01,\n",
       "       8.02556253e+01, 1.06498838e+02, 1.41323458e+02, 1.87535565e+02,\n",
       "       2.48858814e+02, 3.30234477e+02, 4.38219601e+02, 5.81515352e+02,\n",
       "       7.71668141e+02, 1.02400000e+03])"
      ]
     },
     "execution_count": 29,
     "metadata": {},
     "output_type": "execute_result"
    }
   ],
   "source": [
    "Lambda = np.logspace(-10,10,num = 50,base = 2)\n",
    "Lambda"
   ]
  },
  {
   "cell_type": "code",
   "execution_count": 30,
   "metadata": {
    "scrolled": true
   },
   "outputs": [
    {
     "name": "stdout",
     "output_type": "stream",
     "text": [
      "lambda = 0.0009765625 , accuracy = [0.66544561]\n",
      "lambda = 0.0012958938515892147 , accuracy = [0.66544561]\n",
      "lambda = 0.0017196450555768113 , accuracy = [0.66544561]\n",
      "lambda = 0.002281960913344293 , accuracy = [0.66544561]\n",
      "lambda = 0.003028151415981853 , accuracy = [0.66544561]\n",
      "lambda = 0.004018342708891707 , accuracy = [0.66544561]\n",
      "lambda = 0.005332321904671864 , accuracy = [0.66544561]\n",
      "lambda = 0.007075966127061773 , accuracy = [0.66544561]\n",
      "lambda = 0.00938977382206761 , accuracy = [0.6654605]\n",
      "lambda = 0.012460185767762717 , accuracy = [0.6654605]\n",
      "lambda = 0.01653460800112963 , accuracy = [0.6654605]\n",
      "lambda = 0.021941347171432177 , accuracy = [0.6654605]\n",
      "lambda = 0.02911606466052441 , accuracy = [0.6654605]\n",
      "lambda = 0.03863688107627274 , accuracy = [0.6654605]\n",
      "lambda = 0.05127095975047737 , accuracy = [0.6654605]\n",
      "lambda = 0.06803632282185909 , accuracy = [0.6654605]\n",
      "lambda = 0.09028388088789624 , accuracy = [0.6654605]\n",
      "lambda = 0.11980628596760347 , accuracy = [0.6654605]\n",
      "lambda = 0.15898237887196842 , accuracy = [0.6654605]\n",
      "lambda = 0.21096887018620014 , accuracy = [0.66544561]\n",
      "lambda = 0.27995470003304446 , accuracy = [0.66544561]\n",
      "lambda = 0.37149857228423705 , accuracy = [0.66549028]\n",
      "lambda = 0.4929768608740504 , accuracy = [0.66549028]\n",
      "lambda = 0.6541779793740121 , accuracy = [0.66547539]\n",
      "lambda = 0.8680911066274185 , accuracy = [0.66547539]\n",
      "lambda = 1.151952821962495 , accuracy = [0.66549028]\n",
      "lambda = 1.5286359852052918 , accuracy = [0.66550517]\n",
      "lambda = 2.0284927739346554 , accuracy = [0.66553496]\n",
      "lambda = 2.6918003852647128 , accuracy = [0.66553496]\n",
      "lambda = 3.5720064706253014 , accuracy = [0.66553496]\n",
      "lambda = 4.74003581247511 , accuracy = [0.66560941]\n",
      "lambda = 6.290005264075964 , accuracy = [0.66566897]\n",
      "lambda = 8.346807447736152 , accuracy = [0.66581788]\n",
      "lambda = 11.076174286766435 , accuracy = [0.66601147]\n",
      "lambda = 14.698031265127607 , accuracy = [0.66613059]\n",
      "lambda = 19.504218467271617 , accuracy = [0.66630928]\n",
      "lambda = 25.88200631479307 , accuracy = [0.66654754]\n",
      "lambda = 34.34530083853678 , accuracy = [0.66703894]\n",
      "lambda = 45.57605292814517 , accuracy = [0.66730698]\n",
      "lambda = 60.479208211750866 , accuracy = [0.66802174]\n",
      "lambda = 80.2556252882861 , accuracy = [0.66881096]\n",
      "lambda = 106.49883787933477 , accuracy = [0.66983843]\n",
      "lambda = 141.32345775024794 , accuracy = [0.67128285]\n",
      "lambda = 187.53556478348744 , accuracy = [0.67295064]\n",
      "lambda = 248.85881380580645 , accuracy = [0.67452907]\n",
      "lambda = 330.23447728612325 , accuracy = [0.67615219]\n",
      "lambda = 438.21960058661415 , accuracy = [0.67765617]\n",
      "lambda = 581.5153521111805 , accuracy = [0.67987492]\n",
      "lambda = 771.6681414713509 , accuracy = [0.68182563]\n",
      "lambda = 1024.0 , accuracy = [0.68368699]\n"
     ]
    }
   ],
   "source": [
    "for lam in Lambda:\n",
    "    w = VT.T@np.linalg.inv(np.diag(s**2)+lam*np.eye(7))@U.T@y_train\n",
    "    y_hat = np.sign(X_train@w)\n",
    "    error_rate = np.sum(y_hat != y_train)/y_train.shape\n",
    "    accuracy = 1 - error_rate\n",
    "    print (\"lambda =\", lam, \", accuracy =\", accuracy)"
   ]
  },
  {
   "cell_type": "markdown",
   "metadata": {},
   "source": [
    "# KNN"
   ]
  },
  {
   "cell_type": "code",
   "execution_count": 31,
   "metadata": {},
   "outputs": [],
   "source": [
    "y_train = y_train.astype('int')\n",
    "y_test = y_test.astype('int')"
   ]
  },
  {
   "cell_type": "code",
   "execution_count": 32,
   "metadata": {
    "scrolled": true
   },
   "outputs": [
    {
     "data": {
      "text/plain": [
       "KNeighborsClassifier(n_neighbors=2, weights='distance')"
      ]
     },
     "execution_count": 32,
     "metadata": {},
     "output_type": "execute_result"
    }
   ],
   "source": [
    "from sklearn.neighbors import KNeighborsClassifier\n",
    "classifier = KNeighborsClassifier(n_neighbors=2,weights=\"distance\",algorithm=\"auto\")\n",
    "classifier.fit(X_train, y_train)"
   ]
  },
  {
   "cell_type": "code",
   "execution_count": 33,
   "metadata": {},
   "outputs": [],
   "source": [
    "y_pred = classifier.predict(X_test)"
   ]
  },
  {
   "cell_type": "code",
   "execution_count": 34,
   "metadata": {},
   "outputs": [
    {
     "name": "stdout",
     "output_type": "stream",
     "text": [
      "[[ 6571  4383]\n",
      " [ 4286 13541]]\n",
      "              precision    recall  f1-score   support\n",
      "\n",
      "          -1       0.61      0.60      0.60     10954\n",
      "           1       0.76      0.76      0.76     17827\n",
      "\n",
      "    accuracy                           0.70     28781\n",
      "   macro avg       0.68      0.68      0.68     28781\n",
      "weighted avg       0.70      0.70      0.70     28781\n",
      "\n"
     ]
    }
   ],
   "source": [
    "from sklearn.metrics import classification_report, confusion_matrix\n",
    "print(confusion_matrix(y_test, y_pred))\n",
    "print(classification_report(y_test, y_pred))"
   ]
  },
  {
   "cell_type": "code",
   "execution_count": 35,
   "metadata": {},
   "outputs": [],
   "source": [
    "error = []\n",
    "\n",
    "for i in range(1, 30):\n",
    "    knn = KNeighborsClassifier(n_neighbors=i)\n",
    "    knn.fit(X_train, y_train)\n",
    "    pred_i = knn.predict(X_test)\n",
    "    error.append(np.mean(pred_i != y_test))"
   ]
  },
  {
   "cell_type": "code",
   "execution_count": 36,
   "metadata": {},
   "outputs": [
    {
     "data": {
      "text/plain": [
       "Text(0, 0.5, 'Mean Error')"
      ]
     },
     "execution_count": 36,
     "metadata": {},
     "output_type": "execute_result"
    },
    {
     "data": {
      "image/png": "[encoded data removed]",
      "text/plain": [
       "<Figure size 864x432 with 1 Axes>"
      ]
     },
     "metadata": {
      "needs_background": "light"
     },
     "output_type": "display_data"
    }
   ],
   "source": [
    "plt.figure(figsize=(12, 6))\n",
    "plt.plot(range(1, 30), error, color='red', linestyle='dashed', marker='o',\n",
    "         markerfacecolor='blue', markersize=10)\n",
    "plt.title('Error Rate K Value')\n",
    "plt.xlabel('K Value')\n",
    "plt.ylabel('Mean Error')"
   ]
  },
  {
   "cell_type": "markdown",
   "metadata": {},
   "source": [
    "# Neural Network"
   ]
  },
  {
   "cell_type": "code",
   "execution_count": 37,
   "metadata": {},
   "outputs": [],
   "source": [
    "import tensorflow as tf\n",
    "from tensorflow import keras"
   ]
  },
  {
   "cell_type": "code",
   "execution_count": 38,
   "metadata": {},
   "outputs": [],
   "source": [
    "y_train = (np.sign(y_train)/2 + 0.5).astype(\"int\")\n",
    "y_test = (np.sign(y_test)/2 + 0.5).astype(\"int\")"
   ]
  },
  {
   "cell_type": "code",
   "execution_count": 39,
   "metadata": {},
   "outputs": [],
   "source": [
    "def build_model():\n",
    "    model = tf.keras.Sequential()\n",
    "    model.add(tf.keras.layers.Dense(128, input_dim = 7,activation=\"relu\"))\n",
    "    model.add(tf.keras.layers.Dense(32, activation=\"relu\"))\n",
    "    model.add(tf.keras.layers.Dense(1,activation=\"sigmoid\"))\n",
    "\n",
    "    opt = tf.keras.optimizers.SGD(learning_rate=0.001)\n",
    "    loss = tf.keras.losses.SparseCategoricalCrossentropy(from_logits=True)\n",
    "    model.compile(optimizer='adam', loss='binary_crossentropy', metrics=['accuracy'])\n",
    "    return model\n",
    "\n",
    "model = build_model()"
   ]
  },
  {
   "cell_type": "code",
   "execution_count": 40,
   "metadata": {
    "scrolled": true
   },
   "outputs": [
    {
     "name": "stdout",
     "output_type": "stream",
     "text": [
      "Epoch 1/20\n",
      "2099/2099 [==============================] - 2s 821us/step - loss: 0.5359 - accuracy: 0.7363\n",
      "Epoch 2/20\n",
      "2099/2099 [==============================] - 2s 793us/step - loss: 0.5169 - accuracy: 0.7458\n",
      "Epoch 3/20\n",
      "2099/2099 [==============================] - 2s 806us/step - loss: 0.5121 - accuracy: 0.7476\n",
      "Epoch 4/20\n",
      "2099/2099 [==============================] - 2s 813us/step - loss: 0.5095 - accuracy: 0.7495\n",
      "Epoch 5/20\n",
      "2099/2099 [==============================] - 2s 786us/step - loss: 0.5078 - accuracy: 0.7505\n",
      "Epoch 6/20\n",
      "2099/2099 [==============================] - 2s 791us/step - loss: 0.5065 - accuracy: 0.7500\n",
      "Epoch 7/20\n",
      "2099/2099 [==============================] - 2s 786us/step - loss: 0.5050 - accuracy: 0.7514\n",
      "Epoch 8/20\n",
      "2099/2099 [==============================] - 2s 800us/step - loss: 0.5040 - accuracy: 0.7519\n",
      "Epoch 9/20\n",
      "2099/2099 [==============================] - 2s 796us/step - loss: 0.5029 - accuracy: 0.7527\n",
      "Epoch 10/20\n",
      "2099/2099 [==============================] - 2s 802us/step - loss: 0.5018 - accuracy: 0.7522\n",
      "Epoch 11/20\n",
      "2099/2099 [==============================] - 2s 796us/step - loss: 0.5010 - accuracy: 0.7530\n",
      "Epoch 12/20\n",
      "2099/2099 [==============================] - 2s 792us/step - loss: 0.5007 - accuracy: 0.7537\n",
      "Epoch 13/20\n",
      "2099/2099 [==============================] - 2s 817us/step - loss: 0.5001 - accuracy: 0.7545\n",
      "Epoch 14/20\n",
      "2099/2099 [==============================] - 2s 810us/step - loss: 0.4989 - accuracy: 0.7533\n",
      "Epoch 15/20\n",
      "2099/2099 [==============================] - 2s 791us/step - loss: 0.4990 - accuracy: 0.7534\n",
      "Epoch 16/20\n",
      "2099/2099 [==============================] - 2s 805us/step - loss: 0.4987 - accuracy: 0.7544\n",
      "Epoch 17/20\n",
      "2099/2099 [==============================] - 2s 809us/step - loss: 0.4983 - accuracy: 0.7539\n",
      "Epoch 18/20\n",
      "2099/2099 [==============================] - 2s 795us/step - loss: 0.4976 - accuracy: 0.7547\n",
      "Epoch 19/20\n",
      "2099/2099 [==============================] - 2s 814us/step - loss: 0.4977 - accuracy: 0.7545\n",
      "Epoch 20/20\n",
      "2099/2099 [==============================] - 2s 810us/step - loss: 0.4974 - accuracy: 0.7556\n"
     ]
    }
   ],
   "source": [
    "def train_model(model, X_train, y_train, T):\n",
    "    model.fit(X_train, y_train, epochs=T)\n",
    "\n",
    "train_model(model, X_train, y_train, 20)"
   ]
  },
  {
   "cell_type": "code",
   "execution_count": 41,
   "metadata": {},
   "outputs": [
    {
     "name": "stdout",
     "output_type": "stream",
     "text": [
      "900/900 [==============================] - 1s 583us/step - loss: 0.5005 - accuracy: 0.7534\n",
      "Loss: 0.5005\n",
      "Accuracy: 75.34%\n"
     ]
    }
   ],
   "source": [
    "def evaluate_model(model, X_test, y_test, show_loss=True):\n",
    "    test_loss, test_accuracy = model.evaluate(X_test, y_test)\n",
    "    if show_loss == True:\n",
    "        print(\"Loss: \" + str(np.round(test_loss, 4)))\n",
    "    print(\"Accuracy:\", str(np.round(100*test_accuracy, 2)) + \"%\")\n",
    "    \n",
    "evaluate_model(model, X_test, y_test)"
   ]
  },
  {
   "cell_type": "code",
   "execution_count": 42,
   "metadata": {},
   "outputs": [
    {
     "name": "stdout",
     "output_type": "stream",
     "text": [
      "Accuracy: 61.94%\n"
     ]
    }
   ],
   "source": [
    "def predict_label(model, X_test, y_test):\n",
    "    y_pred = model.predict(X_test)\n",
    "    y_pred = y_pred.reshape((y_pred.shape[0],))\n",
    "    y_pred = np.where(y_pred <= 0.5,y_pred,0)\n",
    "    y_pred = np.where(y_pred > 0.5,y_pred,1)\n",
    "    error = np.sum(y_test != y_pred)\n",
    "    accuracy = 1 - error/y_test.shape[0]\n",
    "    print (\"Accuracy:\", str(np.round(100*accuracy, 2)) + \"%\")\n",
    "\n",
    "predict_label(model, X_test, y_test)"
   ]
  }
 ],
 "metadata": {
  "kernelspec": {
   "display_name": "Python 3",
   "language": "python",
   "name": "python3"
  },
  "language_info": {
   "codemirror_mode": {
    "name": "ipython",
    "version": 3
   },
   "file_extension": ".py",
   "mimetype": "text/x-python",
   "name": "python",
   "nbconvert_exporter": "python",
   "pygments_lexer": "ipython3",
   "version": "3.8.6"
  }
 },
 "nbformat": 4,
 "nbformat_minor": 4
}
