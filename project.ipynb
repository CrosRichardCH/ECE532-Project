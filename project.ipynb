{
 "cells": [
  {
   "cell_type": "code",
   "execution_count": 1,
   "metadata": {},
   "outputs": [],
   "source": [
    "import pandas as pd\n",
    "import numpy as np\n",
    "import seaborn as sns\n",
    "import matplotlib.pyplot as plt"
   ]
  },
  {
   "cell_type": "code",
   "execution_count": 2,
   "metadata": {},
   "outputs": [
    {
     "data": {
      "text/html": [
       "<div>\n",
       "<style scoped>\n",
       "    .dataframe tbody tr th:only-of-type {\n",
       "        vertical-align: middle;\n",
       "    }\n",
       "\n",
       "    .dataframe tbody tr th {\n",
       "        vertical-align: top;\n",
       "    }\n",
       "\n",
       "    .dataframe thead th {\n",
       "        text-align: right;\n",
       "    }\n",
       "</style>\n",
       "<table border=\"1\" class=\"dataframe\">\n",
       "  <thead>\n",
       "    <tr style=\"text-align: right;\">\n",
       "      <th></th>\n",
       "      <th>Formatted Date</th>\n",
       "      <th>Summary</th>\n",
       "      <th>Precip Type</th>\n",
       "      <th>Temperature (C)</th>\n",
       "      <th>Apparent Temperature (C)</th>\n",
       "      <th>Humidity</th>\n",
       "      <th>Wind Speed (km/h)</th>\n",
       "      <th>Wind Bearing (degrees)</th>\n",
       "      <th>Visibility (km)</th>\n",
       "      <th>Loud Cover</th>\n",
       "      <th>Pressure (millibars)</th>\n",
       "      <th>Daily Summary</th>\n",
       "    </tr>\n",
       "  </thead>\n",
       "  <tbody>\n",
       "    <tr>\n",
       "      <th>0</th>\n",
       "      <td>2006-04-01 00:00:00.000 +0200</td>\n",
       "      <td>Partly Cloudy</td>\n",
       "      <td>rain</td>\n",
       "      <td>9.472222</td>\n",
       "      <td>7.388889</td>\n",
       "      <td>0.89</td>\n",
       "      <td>14.1197</td>\n",
       "      <td>251.0</td>\n",
       "      <td>15.8263</td>\n",
       "      <td>0.0</td>\n",
       "      <td>1015.13</td>\n",
       "      <td>Partly cloudy throughout the day.</td>\n",
       "    </tr>\n",
       "    <tr>\n",
       "      <th>1</th>\n",
       "      <td>2006-04-01 01:00:00.000 +0200</td>\n",
       "      <td>Partly Cloudy</td>\n",
       "      <td>rain</td>\n",
       "      <td>9.355556</td>\n",
       "      <td>7.227778</td>\n",
       "      <td>0.86</td>\n",
       "      <td>14.2646</td>\n",
       "      <td>259.0</td>\n",
       "      <td>15.8263</td>\n",
       "      <td>0.0</td>\n",
       "      <td>1015.63</td>\n",
       "      <td>Partly cloudy throughout the day.</td>\n",
       "    </tr>\n",
       "    <tr>\n",
       "      <th>2</th>\n",
       "      <td>2006-04-01 02:00:00.000 +0200</td>\n",
       "      <td>Mostly Cloudy</td>\n",
       "      <td>rain</td>\n",
       "      <td>9.377778</td>\n",
       "      <td>9.377778</td>\n",
       "      <td>0.89</td>\n",
       "      <td>3.9284</td>\n",
       "      <td>204.0</td>\n",
       "      <td>14.9569</td>\n",
       "      <td>0.0</td>\n",
       "      <td>1015.94</td>\n",
       "      <td>Partly cloudy throughout the day.</td>\n",
       "    </tr>\n",
       "    <tr>\n",
       "      <th>3</th>\n",
       "      <td>2006-04-01 03:00:00.000 +0200</td>\n",
       "      <td>Partly Cloudy</td>\n",
       "      <td>rain</td>\n",
       "      <td>8.288889</td>\n",
       "      <td>5.944444</td>\n",
       "      <td>0.83</td>\n",
       "      <td>14.1036</td>\n",
       "      <td>269.0</td>\n",
       "      <td>15.8263</td>\n",
       "      <td>0.0</td>\n",
       "      <td>1016.41</td>\n",
       "      <td>Partly cloudy throughout the day.</td>\n",
       "    </tr>\n",
       "    <tr>\n",
       "      <th>4</th>\n",
       "      <td>2006-04-01 04:00:00.000 +0200</td>\n",
       "      <td>Mostly Cloudy</td>\n",
       "      <td>rain</td>\n",
       "      <td>8.755556</td>\n",
       "      <td>6.977778</td>\n",
       "      <td>0.83</td>\n",
       "      <td>11.0446</td>\n",
       "      <td>259.0</td>\n",
       "      <td>15.8263</td>\n",
       "      <td>0.0</td>\n",
       "      <td>1016.51</td>\n",
       "      <td>Partly cloudy throughout the day.</td>\n",
       "    </tr>\n",
       "    <tr>\n",
       "      <th>...</th>\n",
       "      <td>...</td>\n",
       "      <td>...</td>\n",
       "      <td>...</td>\n",
       "      <td>...</td>\n",
       "      <td>...</td>\n",
       "      <td>...</td>\n",
       "      <td>...</td>\n",
       "      <td>...</td>\n",
       "      <td>...</td>\n",
       "      <td>...</td>\n",
       "      <td>...</td>\n",
       "      <td>...</td>\n",
       "    </tr>\n",
       "    <tr>\n",
       "      <th>96448</th>\n",
       "      <td>2016-09-09 19:00:00.000 +0200</td>\n",
       "      <td>Partly Cloudy</td>\n",
       "      <td>rain</td>\n",
       "      <td>26.016667</td>\n",
       "      <td>26.016667</td>\n",
       "      <td>0.43</td>\n",
       "      <td>10.9963</td>\n",
       "      <td>31.0</td>\n",
       "      <td>16.1000</td>\n",
       "      <td>0.0</td>\n",
       "      <td>1014.36</td>\n",
       "      <td>Partly cloudy starting in the morning.</td>\n",
       "    </tr>\n",
       "    <tr>\n",
       "      <th>96449</th>\n",
       "      <td>2016-09-09 20:00:00.000 +0200</td>\n",
       "      <td>Partly Cloudy</td>\n",
       "      <td>rain</td>\n",
       "      <td>24.583333</td>\n",
       "      <td>24.583333</td>\n",
       "      <td>0.48</td>\n",
       "      <td>10.0947</td>\n",
       "      <td>20.0</td>\n",
       "      <td>15.5526</td>\n",
       "      <td>0.0</td>\n",
       "      <td>1015.16</td>\n",
       "      <td>Partly cloudy starting in the morning.</td>\n",
       "    </tr>\n",
       "    <tr>\n",
       "      <th>96450</th>\n",
       "      <td>2016-09-09 21:00:00.000 +0200</td>\n",
       "      <td>Partly Cloudy</td>\n",
       "      <td>rain</td>\n",
       "      <td>22.038889</td>\n",
       "      <td>22.038889</td>\n",
       "      <td>0.56</td>\n",
       "      <td>8.9838</td>\n",
       "      <td>30.0</td>\n",
       "      <td>16.1000</td>\n",
       "      <td>0.0</td>\n",
       "      <td>1015.66</td>\n",
       "      <td>Partly cloudy starting in the morning.</td>\n",
       "    </tr>\n",
       "    <tr>\n",
       "      <th>96451</th>\n",
       "      <td>2016-09-09 22:00:00.000 +0200</td>\n",
       "      <td>Partly Cloudy</td>\n",
       "      <td>rain</td>\n",
       "      <td>21.522222</td>\n",
       "      <td>21.522222</td>\n",
       "      <td>0.60</td>\n",
       "      <td>10.5294</td>\n",
       "      <td>20.0</td>\n",
       "      <td>16.1000</td>\n",
       "      <td>0.0</td>\n",
       "      <td>1015.95</td>\n",
       "      <td>Partly cloudy starting in the morning.</td>\n",
       "    </tr>\n",
       "    <tr>\n",
       "      <th>96452</th>\n",
       "      <td>2016-09-09 23:00:00.000 +0200</td>\n",
       "      <td>Partly Cloudy</td>\n",
       "      <td>rain</td>\n",
       "      <td>20.438889</td>\n",
       "      <td>20.438889</td>\n",
       "      <td>0.61</td>\n",
       "      <td>5.8765</td>\n",
       "      <td>39.0</td>\n",
       "      <td>15.5204</td>\n",
       "      <td>0.0</td>\n",
       "      <td>1016.16</td>\n",
       "      <td>Partly cloudy starting in the morning.</td>\n",
       "    </tr>\n",
       "  </tbody>\n",
       "</table>\n",
       "<p>96453 rows × 12 columns</p>\n",
       "</div>"
      ],
      "text/plain": [
       "                      Formatted Date        Summary Precip Type  \\\n",
       "0      2006-04-01 00:00:00.000 +0200  Partly Cloudy        rain   \n",
       "1      2006-04-01 01:00:00.000 +0200  Partly Cloudy        rain   \n",
       "2      2006-04-01 02:00:00.000 +0200  Mostly Cloudy        rain   \n",
       "3      2006-04-01 03:00:00.000 +0200  Partly Cloudy        rain   \n",
       "4      2006-04-01 04:00:00.000 +0200  Mostly Cloudy        rain   \n",
       "...                              ...            ...         ...   \n",
       "96448  2016-09-09 19:00:00.000 +0200  Partly Cloudy        rain   \n",
       "96449  2016-09-09 20:00:00.000 +0200  Partly Cloudy        rain   \n",
       "96450  2016-09-09 21:00:00.000 +0200  Partly Cloudy        rain   \n",
       "96451  2016-09-09 22:00:00.000 +0200  Partly Cloudy        rain   \n",
       "96452  2016-09-09 23:00:00.000 +0200  Partly Cloudy        rain   \n",
       "\n",
       "       Temperature (C)  Apparent Temperature (C)  Humidity  Wind Speed (km/h)  \\\n",
       "0             9.472222                  7.388889      0.89            14.1197   \n",
       "1             9.355556                  7.227778      0.86            14.2646   \n",
       "2             9.377778                  9.377778      0.89             3.9284   \n",
       "3             8.288889                  5.944444      0.83            14.1036   \n",
       "4             8.755556                  6.977778      0.83            11.0446   \n",
       "...                ...                       ...       ...                ...   \n",
       "96448        26.016667                 26.016667      0.43            10.9963   \n",
       "96449        24.583333                 24.583333      0.48            10.0947   \n",
       "96450        22.038889                 22.038889      0.56             8.9838   \n",
       "96451        21.522222                 21.522222      0.60            10.5294   \n",
       "96452        20.438889                 20.438889      0.61             5.8765   \n",
       "\n",
       "       Wind Bearing (degrees)  Visibility (km)  Loud Cover  \\\n",
       "0                       251.0          15.8263         0.0   \n",
       "1                       259.0          15.8263         0.0   \n",
       "2                       204.0          14.9569         0.0   \n",
       "3                       269.0          15.8263         0.0   \n",
       "4                       259.0          15.8263         0.0   \n",
       "...                       ...              ...         ...   \n",
       "96448                    31.0          16.1000         0.0   \n",
       "96449                    20.0          15.5526         0.0   \n",
       "96450                    30.0          16.1000         0.0   \n",
       "96451                    20.0          16.1000         0.0   \n",
       "96452                    39.0          15.5204         0.0   \n",
       "\n",
       "       Pressure (millibars)                           Daily Summary  \n",
       "0                   1015.13       Partly cloudy throughout the day.  \n",
       "1                   1015.63       Partly cloudy throughout the day.  \n",
       "2                   1015.94       Partly cloudy throughout the day.  \n",
       "3                   1016.41       Partly cloudy throughout the day.  \n",
       "4                   1016.51       Partly cloudy throughout the day.  \n",
       "...                     ...                                     ...  \n",
       "96448               1014.36  Partly cloudy starting in the morning.  \n",
       "96449               1015.16  Partly cloudy starting in the morning.  \n",
       "96450               1015.66  Partly cloudy starting in the morning.  \n",
       "96451               1015.95  Partly cloudy starting in the morning.  \n",
       "96452               1016.16  Partly cloudy starting in the morning.  \n",
       "\n",
       "[96453 rows x 12 columns]"
      ]
     },
     "execution_count": 2,
     "metadata": {},
     "output_type": "execute_result"
    }
   ],
   "source": [
    "df = pd.read_csv(\"weatherHistory.csv\")\n",
    "df"
   ]
  },
  {
   "cell_type": "code",
   "execution_count": 3,
   "metadata": {},
   "outputs": [
    {
     "name": "stdout",
     "output_type": "stream",
     "text": [
      "Formatted Date                0\n",
      "Summary                       0\n",
      "Precip Type                 517\n",
      "Temperature (C)               0\n",
      "Apparent Temperature (C)      0\n",
      "Humidity                      0\n",
      "Wind Speed (km/h)             0\n",
      "Wind Bearing (degrees)        0\n",
      "Visibility (km)               0\n",
      "Loud Cover                    0\n",
      "Pressure (millibars)          0\n",
      "Daily Summary                 0\n",
      "dtype: int64\n"
     ]
    }
   ],
   "source": [
    "pd.isnull(df)\n",
    "print (np.sum(pd.isnull(df)))"
   ]
  },
  {
   "cell_type": "code",
   "execution_count": 4,
   "metadata": {},
   "outputs": [],
   "source": [
    "df = df.dropna()"
   ]
  },
  {
   "cell_type": "code",
   "execution_count": 5,
   "metadata": {},
   "outputs": [
    {
     "name": "stdout",
     "output_type": "stream",
     "text": [
      "Summary\n",
      "-1    36387\n",
      " 1    59549\n",
      "Name: Summary, dtype: int64\n"
     ]
    },
    {
     "name": "stderr",
     "output_type": "stream",
     "text": [
      "e:\\python\\lib\\site-packages\\pandas\\core\\indexing.py:671: SettingWithCopyWarning: \n",
      "A value is trying to be set on a copy of a slice from a DataFrame\n",
      "\n",
      "See the caveats in the documentation: https://pandas.pydata.org/pandas-docs/stable/user_guide/indexing.html#returning-a-view-versus-a-copy\n",
      "  self._setitem_with_indexer(indexer, value)\n",
      "e:\\python\\lib\\site-packages\\ipykernel_launcher.py:1: SettingWithCopyWarning: \n",
      "A value is trying to be set on a copy of a slice from a DataFrame\n",
      "\n",
      "See the caveats in the documentation: https://pandas.pydata.org/pandas-docs/stable/user_guide/indexing.html#returning-a-view-versus-a-copy\n",
      "  \"\"\"Entry point for launching an IPython kernel.\n",
      "e:\\python\\lib\\site-packages\\ipykernel_launcher.py:2: SettingWithCopyWarning: \n",
      "A value is trying to be set on a copy of a slice from a DataFrame\n",
      "\n",
      "See the caveats in the documentation: https://pandas.pydata.org/pandas-docs/stable/user_guide/indexing.html#returning-a-view-versus-a-copy\n",
      "  \n",
      "e:\\python\\lib\\site-packages\\ipykernel_launcher.py:3: SettingWithCopyWarning: \n",
      "A value is trying to be set on a copy of a slice from a DataFrame\n",
      "\n",
      "See the caveats in the documentation: https://pandas.pydata.org/pandas-docs/stable/user_guide/indexing.html#returning-a-view-versus-a-copy\n",
      "  This is separate from the ipykernel package so we can avoid doing imports until\n"
     ]
    }
   ],
   "source": [
    "df['Summary'].loc[df['Summary'] == 'Partly Cloudy'] = 1\n",
    "df['Summary'].loc[df['Summary'] == 'Mostly Cloudy'] = 1\n",
    "df['Summary'].loc[df['Summary'] != 1] = -1\n",
    "print(df.groupby('Summary')['Summary'].count())"
   ]
  },
  {
   "cell_type": "code",
   "execution_count": 6,
   "metadata": {},
   "outputs": [
    {
     "name": "stdout",
     "output_type": "stream",
     "text": [
      "Precip Type\n",
      "rain    85224\n",
      "snow    10712\n",
      "Name: Precip Type, dtype: int64\n"
     ]
    }
   ],
   "source": [
    "print(df.groupby('Precip Type')['Precip Type'].count())"
   ]
  },
  {
   "cell_type": "code",
   "execution_count": 7,
   "metadata": {},
   "outputs": [
    {
     "name": "stdout",
     "output_type": "stream",
     "text": [
      "Precip Type\n",
      "1    85224\n",
      "2    10712\n",
      "Name: Precip Type, dtype: int64\n"
     ]
    },
    {
     "name": "stderr",
     "output_type": "stream",
     "text": [
      "e:\\python\\lib\\site-packages\\ipykernel_launcher.py:1: SettingWithCopyWarning: \n",
      "A value is trying to be set on a copy of a slice from a DataFrame\n",
      "\n",
      "See the caveats in the documentation: https://pandas.pydata.org/pandas-docs/stable/user_guide/indexing.html#returning-a-view-versus-a-copy\n",
      "  \"\"\"Entry point for launching an IPython kernel.\n",
      "e:\\python\\lib\\site-packages\\ipykernel_launcher.py:2: SettingWithCopyWarning: \n",
      "A value is trying to be set on a copy of a slice from a DataFrame\n",
      "\n",
      "See the caveats in the documentation: https://pandas.pydata.org/pandas-docs/stable/user_guide/indexing.html#returning-a-view-versus-a-copy\n",
      "  \n"
     ]
    }
   ],
   "source": [
    "df['Precip Type'].loc[df['Precip Type'] == 'rain'] = 1\n",
    "df['Precip Type'].loc[df['Precip Type'] == 'snow'] = 2\n",
    "print(df.groupby('Precip Type')['Precip Type'].count())"
   ]
  },
  {
   "cell_type": "code",
   "execution_count": 8,
   "metadata": {},
   "outputs": [
    {
     "name": "stdout",
     "output_type": "stream",
     "text": [
      "Daily Summary\n",
      "Breezy and foggy starting in the evening.            24\n",
      "Breezy and foggy until morning.                      24\n",
      "Breezy and mostly cloudy overnight.                  24\n",
      "Breezy and partly cloudy in the afternoon.           24\n",
      "Breezy in the morning and foggy in the evening.      24\n",
      "                                                   ... \n",
      "Partly cloudy until night.                         6169\n",
      "Rain throughout the day.                             24\n",
      "Rain until afternoon.                                17\n",
      "Rain until morning.                                  12\n",
      "Windy in the afternoon.                              24\n",
      "Name: Daily Summary, Length: 214, dtype: int64\n"
     ]
    }
   ],
   "source": [
    "print(df.groupby('Daily Summary')['Daily Summary'].count())"
   ]
  },
  {
   "cell_type": "code",
   "execution_count": 9,
   "metadata": {},
   "outputs": [
    {
     "name": "stdout",
     "output_type": "stream",
     "text": [
      "Loud Cover\n",
      "0.0    95936\n",
      "Name: Loud Cover, dtype: int64\n"
     ]
    }
   ],
   "source": [
    "print(df.groupby('Loud Cover')['Loud Cover'].count())"
   ]
  },
  {
   "cell_type": "code",
   "execution_count": 10,
   "metadata": {},
   "outputs": [],
   "source": [
    "df = df.drop(columns = [\"Formatted Date\"])\n",
    "df = df.drop(columns = [\"Daily Summary\"])\n",
    "df = df.drop(columns = [\"Loud Cover\"])"
   ]
  },
  {
   "cell_type": "code",
   "execution_count": 11,
   "metadata": {},
   "outputs": [
    {
     "data": {
      "text/html": [
       "<div>\n",
       "<style scoped>\n",
       "    .dataframe tbody tr th:only-of-type {\n",
       "        vertical-align: middle;\n",
       "    }\n",
       "\n",
       "    .dataframe tbody tr th {\n",
       "        vertical-align: top;\n",
       "    }\n",
       "\n",
       "    .dataframe thead th {\n",
       "        text-align: right;\n",
       "    }\n",
       "</style>\n",
       "<table border=\"1\" class=\"dataframe\">\n",
       "  <thead>\n",
       "    <tr style=\"text-align: right;\">\n",
       "      <th></th>\n",
       "      <th>Summary</th>\n",
       "      <th>Precip Type</th>\n",
       "      <th>Temperature (C)</th>\n",
       "      <th>Apparent Temperature (C)</th>\n",
       "      <th>Humidity</th>\n",
       "      <th>Wind Speed (km/h)</th>\n",
       "      <th>Wind Bearing (degrees)</th>\n",
       "      <th>Visibility (km)</th>\n",
       "      <th>Pressure (millibars)</th>\n",
       "    </tr>\n",
       "  </thead>\n",
       "  <tbody>\n",
       "    <tr>\n",
       "      <th>0</th>\n",
       "      <td>1</td>\n",
       "      <td>1</td>\n",
       "      <td>9.472222</td>\n",
       "      <td>7.388889</td>\n",
       "      <td>0.89</td>\n",
       "      <td>14.1197</td>\n",
       "      <td>251.0</td>\n",
       "      <td>15.8263</td>\n",
       "      <td>1015.13</td>\n",
       "    </tr>\n",
       "    <tr>\n",
       "      <th>1</th>\n",
       "      <td>1</td>\n",
       "      <td>1</td>\n",
       "      <td>9.355556</td>\n",
       "      <td>7.227778</td>\n",
       "      <td>0.86</td>\n",
       "      <td>14.2646</td>\n",
       "      <td>259.0</td>\n",
       "      <td>15.8263</td>\n",
       "      <td>1015.63</td>\n",
       "    </tr>\n",
       "    <tr>\n",
       "      <th>2</th>\n",
       "      <td>1</td>\n",
       "      <td>1</td>\n",
       "      <td>9.377778</td>\n",
       "      <td>9.377778</td>\n",
       "      <td>0.89</td>\n",
       "      <td>3.9284</td>\n",
       "      <td>204.0</td>\n",
       "      <td>14.9569</td>\n",
       "      <td>1015.94</td>\n",
       "    </tr>\n",
       "    <tr>\n",
       "      <th>3</th>\n",
       "      <td>1</td>\n",
       "      <td>1</td>\n",
       "      <td>8.288889</td>\n",
       "      <td>5.944444</td>\n",
       "      <td>0.83</td>\n",
       "      <td>14.1036</td>\n",
       "      <td>269.0</td>\n",
       "      <td>15.8263</td>\n",
       "      <td>1016.41</td>\n",
       "    </tr>\n",
       "    <tr>\n",
       "      <th>4</th>\n",
       "      <td>1</td>\n",
       "      <td>1</td>\n",
       "      <td>8.755556</td>\n",
       "      <td>6.977778</td>\n",
       "      <td>0.83</td>\n",
       "      <td>11.0446</td>\n",
       "      <td>259.0</td>\n",
       "      <td>15.8263</td>\n",
       "      <td>1016.51</td>\n",
       "    </tr>\n",
       "    <tr>\n",
       "      <th>...</th>\n",
       "      <td>...</td>\n",
       "      <td>...</td>\n",
       "      <td>...</td>\n",
       "      <td>...</td>\n",
       "      <td>...</td>\n",
       "      <td>...</td>\n",
       "      <td>...</td>\n",
       "      <td>...</td>\n",
       "      <td>...</td>\n",
       "    </tr>\n",
       "    <tr>\n",
       "      <th>96448</th>\n",
       "      <td>1</td>\n",
       "      <td>1</td>\n",
       "      <td>26.016667</td>\n",
       "      <td>26.016667</td>\n",
       "      <td>0.43</td>\n",
       "      <td>10.9963</td>\n",
       "      <td>31.0</td>\n",
       "      <td>16.1000</td>\n",
       "      <td>1014.36</td>\n",
       "    </tr>\n",
       "    <tr>\n",
       "      <th>96449</th>\n",
       "      <td>1</td>\n",
       "      <td>1</td>\n",
       "      <td>24.583333</td>\n",
       "      <td>24.583333</td>\n",
       "      <td>0.48</td>\n",
       "      <td>10.0947</td>\n",
       "      <td>20.0</td>\n",
       "      <td>15.5526</td>\n",
       "      <td>1015.16</td>\n",
       "    </tr>\n",
       "    <tr>\n",
       "      <th>96450</th>\n",
       "      <td>1</td>\n",
       "      <td>1</td>\n",
       "      <td>22.038889</td>\n",
       "      <td>22.038889</td>\n",
       "      <td>0.56</td>\n",
       "      <td>8.9838</td>\n",
       "      <td>30.0</td>\n",
       "      <td>16.1000</td>\n",
       "      <td>1015.66</td>\n",
       "    </tr>\n",
       "    <tr>\n",
       "      <th>96451</th>\n",
       "      <td>1</td>\n",
       "      <td>1</td>\n",
       "      <td>21.522222</td>\n",
       "      <td>21.522222</td>\n",
       "      <td>0.60</td>\n",
       "      <td>10.5294</td>\n",
       "      <td>20.0</td>\n",
       "      <td>16.1000</td>\n",
       "      <td>1015.95</td>\n",
       "    </tr>\n",
       "    <tr>\n",
       "      <th>96452</th>\n",
       "      <td>1</td>\n",
       "      <td>1</td>\n",
       "      <td>20.438889</td>\n",
       "      <td>20.438889</td>\n",
       "      <td>0.61</td>\n",
       "      <td>5.8765</td>\n",
       "      <td>39.0</td>\n",
       "      <td>15.5204</td>\n",
       "      <td>1016.16</td>\n",
       "    </tr>\n",
       "  </tbody>\n",
       "</table>\n",
       "<p>95936 rows × 9 columns</p>\n",
       "</div>"
      ],
      "text/plain": [
       "      Summary Precip Type  Temperature (C)  Apparent Temperature (C)  \\\n",
       "0           1           1         9.472222                  7.388889   \n",
       "1           1           1         9.355556                  7.227778   \n",
       "2           1           1         9.377778                  9.377778   \n",
       "3           1           1         8.288889                  5.944444   \n",
       "4           1           1         8.755556                  6.977778   \n",
       "...       ...         ...              ...                       ...   \n",
       "96448       1           1        26.016667                 26.016667   \n",
       "96449       1           1        24.583333                 24.583333   \n",
       "96450       1           1        22.038889                 22.038889   \n",
       "96451       1           1        21.522222                 21.522222   \n",
       "96452       1           1        20.438889                 20.438889   \n",
       "\n",
       "       Humidity  Wind Speed (km/h)  Wind Bearing (degrees)  Visibility (km)  \\\n",
       "0          0.89            14.1197                   251.0          15.8263   \n",
       "1          0.86            14.2646                   259.0          15.8263   \n",
       "2          0.89             3.9284                   204.0          14.9569   \n",
       "3          0.83            14.1036                   269.0          15.8263   \n",
       "4          0.83            11.0446                   259.0          15.8263   \n",
       "...         ...                ...                     ...              ...   \n",
       "96448      0.43            10.9963                    31.0          16.1000   \n",
       "96449      0.48            10.0947                    20.0          15.5526   \n",
       "96450      0.56             8.9838                    30.0          16.1000   \n",
       "96451      0.60            10.5294                    20.0          16.1000   \n",
       "96452      0.61             5.8765                    39.0          15.5204   \n",
       "\n",
       "       Pressure (millibars)  \n",
       "0                   1015.13  \n",
       "1                   1015.63  \n",
       "2                   1015.94  \n",
       "3                   1016.41  \n",
       "4                   1016.51  \n",
       "...                     ...  \n",
       "96448               1014.36  \n",
       "96449               1015.16  \n",
       "96450               1015.66  \n",
       "96451               1015.95  \n",
       "96452               1016.16  \n",
       "\n",
       "[95936 rows x 9 columns]"
      ]
     },
     "execution_count": 11,
     "metadata": {},
     "output_type": "execute_result"
    }
   ],
   "source": [
    "df"
   ]
  },
  {
   "cell_type": "code",
   "execution_count": 12,
   "metadata": {},
   "outputs": [
    {
     "name": "stdout",
     "output_type": "stream",
     "text": [
      "      Precip Type  Temperature (C)  Apparent Temperature (C)  Humidity  \\\n",
      "0               1         9.472222                  7.388889      0.89   \n",
      "1               1         9.355556                  7.227778      0.86   \n",
      "2               1         9.377778                  9.377778      0.89   \n",
      "3               1         8.288889                  5.944444      0.83   \n",
      "4               1         8.755556                  6.977778      0.83   \n",
      "...           ...              ...                       ...       ...   \n",
      "96448           1        26.016667                 26.016667      0.43   \n",
      "96449           1        24.583333                 24.583333      0.48   \n",
      "96450           1        22.038889                 22.038889      0.56   \n",
      "96451           1        21.522222                 21.522222      0.60   \n",
      "96452           1        20.438889                 20.438889      0.61   \n",
      "\n",
      "       Wind Speed (km/h)  Wind Bearing (degrees)  Visibility (km)  \\\n",
      "0                14.1197                   251.0          15.8263   \n",
      "1                14.2646                   259.0          15.8263   \n",
      "2                 3.9284                   204.0          14.9569   \n",
      "3                14.1036                   269.0          15.8263   \n",
      "4                11.0446                   259.0          15.8263   \n",
      "...                  ...                     ...              ...   \n",
      "96448            10.9963                    31.0          16.1000   \n",
      "96449            10.0947                    20.0          15.5526   \n",
      "96450             8.9838                    30.0          16.1000   \n",
      "96451            10.5294                    20.0          16.1000   \n",
      "96452             5.8765                    39.0          15.5204   \n",
      "\n",
      "       Pressure (millibars)  \n",
      "0                   1015.13  \n",
      "1                   1015.63  \n",
      "2                   1015.94  \n",
      "3                   1016.41  \n",
      "4                   1016.51  \n",
      "...                     ...  \n",
      "96448               1014.36  \n",
      "96449               1015.16  \n",
      "96450               1015.66  \n",
      "96451               1015.95  \n",
      "96452               1016.16  \n",
      "\n",
      "[95936 rows x 8 columns]\n",
      "0        1\n",
      "1        1\n",
      "2        1\n",
      "3        1\n",
      "4        1\n",
      "        ..\n",
      "96448    1\n",
      "96449    1\n",
      "96450    1\n",
      "96451    1\n",
      "96452    1\n",
      "Name: Summary, Length: 95936, dtype: object\n"
     ]
    }
   ],
   "source": [
    "X = df.drop(columns = [\"Summary\"])\n",
    "y = df[\"Summary\"]\n",
    "print (X)\n",
    "print (y)"
   ]
  },
  {
   "cell_type": "code",
   "execution_count": 13,
   "metadata": {},
   "outputs": [
    {
     "data": {
      "image/png": "[encoded data removed]",
      "text/plain": [
       "<Figure size 864x864 with 2 Axes>"
      ]
     },
     "metadata": {
      "needs_background": "light"
     },
     "output_type": "display_data"
    }
   ],
   "source": [
    "cor = X.corr()\n",
    "\n",
    "plt.figure(figsize = (12,12))\n",
    "sns.heatmap(cor, annot = True, cmap = plt.cm.Reds)\n",
    "plt.show()"
   ]
  },
  {
   "cell_type": "code",
   "execution_count": 14,
   "metadata": {},
   "outputs": [],
   "source": [
    "X = X.drop(columns = [\"Apparent Temperature (C)\"])"
   ]
  },
  {
   "cell_type": "code",
   "execution_count": 15,
   "metadata": {},
   "outputs": [
    {
     "data": {
      "text/plain": [
       "array([[0.        , 0.50697507, 0.89      , ..., 0.69916435, 0.983     ,\n",
       "        0.97013513],\n",
       "       [0.        , 0.50508505, 0.86      , ..., 0.72144847, 0.983     ,\n",
       "        0.97061297],\n",
       "       [0.        , 0.50544505, 0.89      , ..., 0.56824513, 0.929     ,\n",
       "        0.97090923],\n",
       "       ...,\n",
       "       [0.        , 0.71055711, 0.56      , ..., 0.08356546, 1.        ,\n",
       "        0.97064164],\n",
       "       [0.        , 0.70218702, 0.6       , ..., 0.05571031, 1.        ,\n",
       "        0.97091879],\n",
       "       [0.        , 0.68463685, 0.61      , ..., 0.1086351 , 0.964     ,\n",
       "        0.97111948]])"
      ]
     },
     "execution_count": 15,
     "metadata": {},
     "output_type": "execute_result"
    }
   ],
   "source": [
    "from sklearn.preprocessing import MinMaxScaler\n",
    "scaler = MinMaxScaler(feature_range=(0,1))\n",
    "X = scaler.fit_transform(X)\n",
    "X"
   ]
  },
  {
   "cell_type": "code",
   "execution_count": 16,
   "metadata": {},
   "outputs": [
    {
     "data": {
      "text/plain": [
       "(67155, 7)"
      ]
     },
     "execution_count": 16,
     "metadata": {},
     "output_type": "execute_result"
    }
   ],
   "source": [
    "n = len(X)\n",
    "X_train = np.asarray(X)[:int(0.7*n),:]\n",
    "y_train = np.asarray(y)[:int(0.7*n)]\n",
    "X_train.shape"
   ]
  },
  {
   "cell_type": "code",
   "execution_count": 17,
   "metadata": {},
   "outputs": [
    {
     "data": {
      "text/plain": [
       "(28781, 7)"
      ]
     },
     "execution_count": 17,
     "metadata": {},
     "output_type": "execute_result"
    }
   ],
   "source": [
    "X_test = np.asarray(X)[int(0.7*n):,:]\n",
    "y_test = np.asarray(y)[int(0.7*n):]\n",
    "X_test.shape"
   ]
  },
  {
   "cell_type": "markdown",
   "metadata": {},
   "source": [
    "# linear classifier"
   ]
  },
  {
   "cell_type": "code",
   "execution_count": 18,
   "metadata": {},
   "outputs": [],
   "source": [
    "w = np.linalg.inv(X_train.transpose()@X_train)@X_train.transpose()@y_train\n",
    "y_hat = np.sign(X_train@w)"
   ]
  },
  {
   "cell_type": "code",
   "execution_count": 19,
   "metadata": {
    "scrolled": true
   },
   "outputs": [
    {
     "data": {
      "text/plain": [
       "array([0.72343087])"
      ]
     },
     "execution_count": 19,
     "metadata": {},
     "output_type": "execute_result"
    }
   ],
   "source": [
    "error_rate = np.sum(y_hat != y_train)/y_train.shape\n",
    "accuracy = 1 - error_rate\n",
    "accuracy"
   ]
  },
  {
   "cell_type": "markdown",
   "metadata": {},
   "source": [
    "# SVD "
   ]
  },
  {
   "cell_type": "code",
   "execution_count": 20,
   "metadata": {},
   "outputs": [
    {
     "name": "stdout",
     "output_type": "stream",
     "text": [
      "U = \n",
      "[[-0.004  0.002  0.001 ...  0.007 -0.001  0.   ]\n",
      " [-0.004  0.002  0.001 ...  0.007 -0.001 -0.   ]\n",
      " [-0.004  0.001 -0.001 ...  0.006  0.003 -0.002]\n",
      " ...\n",
      " [-0.005  0.002  0.002 ...  0.005 -0.001  0.004]\n",
      " [-0.005  0.001  0.003 ...  0.003  0.     0.003]\n",
      " [-0.005  0.001  0.003 ...  0.004  0.002  0.002]]\n",
      "\n",
      "Singular Values = \n",
      "[408.32   98.806  73.618  57.139  44.136  29.156  25.186]\n",
      "\n",
      "V^T = \n",
      "[[-0.081 -0.344 -0.463 -0.108 -0.347 -0.399 -0.608]\n",
      " [-0.842  0.287 -0.298  0.031  0.027  0.337 -0.066]\n",
      " [-0.022 -0.119 -0.143  0.015  0.935 -0.201 -0.225]\n",
      " [ 0.503  0.121 -0.616  0.074  0.037  0.582 -0.083]\n",
      " [-0.075 -0.543  0.435 -0.064  0.026  0.586 -0.402]\n",
      " [ 0.099  0.413  0.13  -0.861  0.039  0.039 -0.24 ]\n",
      " [ 0.125  0.552  0.302  0.485 -0.041 -0.047 -0.591]]\n",
      "\n"
     ]
    }
   ],
   "source": [
    "U,s,VT = np.linalg.svd(X_train,full_matrices=False)\n",
    "print('U = ',U.round(3), sep=\"\\n\", end='\\n\\n')\n",
    "print('Singular Values = ',s.round(3), sep=\"\\n\", end='\\n\\n')\n",
    "print('V^T = ',VT.round(3), sep=\"\\n\", end='\\n\\n')"
   ]
  },
  {
   "cell_type": "code",
   "execution_count": 21,
   "metadata": {},
   "outputs": [],
   "source": [
    "# # svd rank-1 approximation\n",
    "# T = U[:,0]\n",
    "# print('Taste for rank-1 = ', T.round(3), sep=\"\\n\", end='\\n\\n')\n",
    "\n",
    "# W = s[0]*VT[0,:]\n",
    "# print('Weights for rank-1 = ',W.round(3), sep=\"\\n\", end='\\n\\n')\n",
    "\n",
    "# X_1 = s[0]*U[:,[0]]@VT[[0],:]\n",
    "# print(\"Rank-1 Approximation = \",X_1.round(3), sep=\"\\n\", end='\\n\\n')"
   ]
  },
  {
   "cell_type": "code",
   "execution_count": 22,
   "metadata": {},
   "outputs": [],
   "source": [
    "# # svd rank-2 approximation\n",
    "# T = U[:,1] \n",
    "# print('Taste for rank-2 = ', T.round(3), sep=\"\\n\", end='\\n\\n')\n",
    "\n",
    "# W = np.vstack((s[0]*VT[0,:],s[1]*VT[1,:]))\n",
    "# print('Weights for rank-2 = ', W.round(3), sep=\"\\n\", end='\\n\\n')\n",
    "\n",
    "# X_2 = s[0]*U[:,[1]]@VT[[0],:]\n",
    "\n",
    "# print('Rank-2 Approximation = ',X_2.round(3), sep=\"\\n\", end='\\n\\n')"
   ]
  },
  {
   "cell_type": "code",
   "execution_count": 23,
   "metadata": {},
   "outputs": [],
   "source": [
    "r = 6\n",
    "w_svd = VT[:r,:].T @ np.diag(1/s[:r]) @ U[:,:r].T @ y_train\n",
    "y_hat_svd = np.sign(X_train@w_svd)"
   ]
  },
  {
   "cell_type": "code",
   "execution_count": 24,
   "metadata": {},
   "outputs": [
    {
     "data": {
      "text/plain": [
       "array([0.71610453])"
      ]
     },
     "execution_count": 24,
     "metadata": {},
     "output_type": "execute_result"
    }
   ],
   "source": [
    "error_rate = np.sum(y_hat_svd != y_train)/y_train.shape\n",
    "accuracy = 1 - error_rate\n",
    "accuracy"
   ]
  },
  {
   "cell_type": "markdown",
   "metadata": {},
   "source": [
    "# regularization"
   ]
  },
  {
   "cell_type": "code",
   "execution_count": 25,
   "metadata": {},
   "outputs": [
    {
     "data": {
      "text/plain": [
       "array([9.76562500e-04, 1.29589385e-03, 1.71964506e-03, 2.28196091e-03,\n",
       "       3.02815142e-03, 4.01834271e-03, 5.33232190e-03, 7.07596613e-03,\n",
       "       9.38977382e-03, 1.24601858e-02, 1.65346080e-02, 2.19413472e-02,\n",
       "       2.91160647e-02, 3.86368811e-02, 5.12709598e-02, 6.80363228e-02,\n",
       "       9.02838809e-02, 1.19806286e-01, 1.58982379e-01, 2.10968870e-01,\n",
       "       2.79954700e-01, 3.71498572e-01, 4.92976861e-01, 6.54177979e-01,\n",
       "       8.68091107e-01, 1.15195282e+00, 1.52863599e+00, 2.02849277e+00,\n",
       "       2.69180039e+00, 3.57200647e+00, 4.74003581e+00, 6.29000526e+00,\n",
       "       8.34680745e+00, 1.10761743e+01, 1.46980313e+01, 1.95042185e+01,\n",
       "       2.58820063e+01, 3.43453008e+01, 4.55760529e+01, 6.04792082e+01,\n",
       "       8.02556253e+01, 1.06498838e+02, 1.41323458e+02, 1.87535565e+02,\n",
       "       2.48858814e+02, 3.30234477e+02, 4.38219601e+02, 5.81515352e+02,\n",
       "       7.71668141e+02, 1.02400000e+03])"
      ]
     },
     "execution_count": 25,
     "metadata": {},
     "output_type": "execute_result"
    }
   ],
   "source": [
    "Lambda = np.logspace(-10,10,num = 50,base = 2)\n",
    "Lambda"
   ]
  },
  {
   "cell_type": "code",
   "execution_count": 26,
   "metadata": {},
   "outputs": [
    {
     "name": "stdout",
     "output_type": "stream",
     "text": [
      "lambda = 0.0009765625 , accuracy = [0.72343087]\n",
      "lambda = 0.0012958938515892147 , accuracy = [0.72343087]\n",
      "lambda = 0.0017196450555768113 , accuracy = [0.72343087]\n",
      "lambda = 0.002281960913344293 , accuracy = [0.72343087]\n",
      "lambda = 0.003028151415981853 , accuracy = [0.72343087]\n",
      "lambda = 0.004018342708891707 , accuracy = [0.72343087]\n",
      "lambda = 0.005332321904671864 , accuracy = [0.72343087]\n",
      "lambda = 0.007075966127061773 , accuracy = [0.72343087]\n",
      "lambda = 0.00938977382206761 , accuracy = [0.72343087]\n",
      "lambda = 0.012460185767762717 , accuracy = [0.72343087]\n",
      "lambda = 0.01653460800112963 , accuracy = [0.72343087]\n",
      "lambda = 0.021941347171432177 , accuracy = [0.72343087]\n",
      "lambda = 0.02911606466052441 , accuracy = [0.72344576]\n",
      "lambda = 0.03863688107627274 , accuracy = [0.72344576]\n",
      "lambda = 0.05127095975047737 , accuracy = [0.72344576]\n",
      "lambda = 0.06803632282185909 , accuracy = [0.72344576]\n",
      "lambda = 0.09028388088789624 , accuracy = [0.72344576]\n",
      "lambda = 0.11980628596760347 , accuracy = [0.72344576]\n",
      "lambda = 0.15898237887196842 , accuracy = [0.72343087]\n",
      "lambda = 0.21096887018620014 , accuracy = [0.72343087]\n",
      "lambda = 0.27995470003304446 , accuracy = [0.72343087]\n",
      "lambda = 0.37149857228423705 , accuracy = [0.72343087]\n",
      "lambda = 0.4929768608740504 , accuracy = [0.72344576]\n",
      "lambda = 0.6541779793740121 , accuracy = [0.72346065]\n",
      "lambda = 0.8680911066274185 , accuracy = [0.72344576]\n",
      "lambda = 1.151952821962495 , accuracy = [0.72344576]\n",
      "lambda = 1.5286359852052918 , accuracy = [0.72341598]\n",
      "lambda = 2.0284927739346554 , accuracy = [0.72340109]\n",
      "lambda = 2.6918003852647128 , accuracy = [0.72344576]\n",
      "lambda = 3.5720064706253014 , accuracy = [0.72341598]\n",
      "lambda = 4.74003581247511 , accuracy = [0.72335641]\n",
      "lambda = 6.290005264075964 , accuracy = [0.72335641]\n",
      "lambda = 8.346807447736152 , accuracy = [0.7233862]\n",
      "lambda = 11.076174286766435 , accuracy = [0.72349043]\n",
      "lambda = 14.698031265127607 , accuracy = [0.72344576]\n",
      "lambda = 19.504218467271617 , accuracy = [0.72344576]\n",
      "lambda = 25.88200631479307 , accuracy = [0.72341598]\n",
      "lambda = 34.34530083853678 , accuracy = [0.72325218]\n",
      "lambda = 45.57605292814517 , accuracy = [0.72325218]\n",
      "lambda = 60.479208211750866 , accuracy = [0.72319261]\n",
      "lambda = 80.2556252882861 , accuracy = [0.72314794]\n",
      "lambda = 106.49883787933477 , accuracy = [0.72296925]\n",
      "lambda = 141.32345775024794 , accuracy = [0.72243318]\n",
      "lambda = 187.53556478348744 , accuracy = [0.72241829]\n",
      "lambda = 248.85881380580645 , accuracy = [0.72243318]\n",
      "lambda = 330.23447728612325 , accuracy = [0.72194178]\n",
      "lambda = 438.21960058661415 , accuracy = [0.72119723]\n",
      "lambda = 581.5153521111805 , accuracy = [0.72006552]\n",
      "lambda = 771.6681414713509 , accuracy = [0.71932097]\n",
      "lambda = 1024.0 , accuracy = [0.71777232]\n"
     ]
    }
   ],
   "source": [
    "for lam in Lambda:\n",
    "    w = np.linalg.inv(X_train.transpose()@X_train+lam*np.eye(X_train.shape[1]))@X_train.transpose()@y_train\n",
    "    y_hat = np.sign(X_train@w)\n",
    "    error_rate = np.sum(y_hat != y_train)/y_train.shape\n",
    "    accuracy = 1 - error_rate\n",
    "    print (\"lambda =\", lam, \", accuracy =\", accuracy)"
   ]
  },
  {
   "cell_type": "markdown",
   "metadata": {},
   "source": [
    "# SVD For Regularization"
   ]
  },
  {
   "cell_type": "code",
   "execution_count": 27,
   "metadata": {},
   "outputs": [],
   "source": [
    "U,s,VT = np.linalg.svd(X_train,full_matrices=False)"
   ]
  },
  {
   "cell_type": "code",
   "execution_count": 28,
   "metadata": {},
   "outputs": [
    {
     "data": {
      "text/plain": [
       "array([9.76562500e-04, 1.29589385e-03, 1.71964506e-03, 2.28196091e-03,\n",
       "       3.02815142e-03, 4.01834271e-03, 5.33232190e-03, 7.07596613e-03,\n",
       "       9.38977382e-03, 1.24601858e-02, 1.65346080e-02, 2.19413472e-02,\n",
       "       2.91160647e-02, 3.86368811e-02, 5.12709598e-02, 6.80363228e-02,\n",
       "       9.02838809e-02, 1.19806286e-01, 1.58982379e-01, 2.10968870e-01,\n",
       "       2.79954700e-01, 3.71498572e-01, 4.92976861e-01, 6.54177979e-01,\n",
       "       8.68091107e-01, 1.15195282e+00, 1.52863599e+00, 2.02849277e+00,\n",
       "       2.69180039e+00, 3.57200647e+00, 4.74003581e+00, 6.29000526e+00,\n",
       "       8.34680745e+00, 1.10761743e+01, 1.46980313e+01, 1.95042185e+01,\n",
       "       2.58820063e+01, 3.43453008e+01, 4.55760529e+01, 6.04792082e+01,\n",
       "       8.02556253e+01, 1.06498838e+02, 1.41323458e+02, 1.87535565e+02,\n",
       "       2.48858814e+02, 3.30234477e+02, 4.38219601e+02, 5.81515352e+02,\n",
       "       7.71668141e+02, 1.02400000e+03])"
      ]
     },
     "execution_count": 28,
     "metadata": {},
     "output_type": "execute_result"
    }
   ],
   "source": [
    "Lambda = np.logspace(-10,10,num = 50,base = 2)\n",
    "Lambda"
   ]
  },
  {
   "cell_type": "code",
   "execution_count": 29,
   "metadata": {},
   "outputs": [
    {
     "name": "stdout",
     "output_type": "stream",
     "text": [
      "lambda = 0.0009765625 , accuracy = [0.66456705]\n",
      "lambda = 0.0012958938515892147 , accuracy = [0.66456705]\n",
      "lambda = 0.0017196450555768113 , accuracy = [0.66456705]\n",
      "lambda = 0.002281960913344293 , accuracy = [0.66456705]\n",
      "lambda = 0.003028151415981853 , accuracy = [0.66456705]\n",
      "lambda = 0.004018342708891707 , accuracy = [0.66456705]\n",
      "lambda = 0.005332321904671864 , accuracy = [0.66456705]\n",
      "lambda = 0.007075966127061773 , accuracy = [0.66456705]\n",
      "lambda = 0.00938977382206761 , accuracy = [0.66456705]\n",
      "lambda = 0.012460185767762717 , accuracy = [0.66456705]\n",
      "lambda = 0.01653460800112963 , accuracy = [0.66456705]\n",
      "lambda = 0.021941347171432177 , accuracy = [0.66456705]\n",
      "lambda = 0.02911606466052441 , accuracy = [0.66456705]\n",
      "lambda = 0.03863688107627274 , accuracy = [0.66456705]\n",
      "lambda = 0.05127095975047737 , accuracy = [0.66456705]\n",
      "lambda = 0.06803632282185909 , accuracy = [0.66456705]\n",
      "lambda = 0.09028388088789624 , accuracy = [0.66456705]\n",
      "lambda = 0.11980628596760347 , accuracy = [0.66456705]\n",
      "lambda = 0.15898237887196842 , accuracy = [0.66459683]\n",
      "lambda = 0.21096887018620014 , accuracy = [0.66458194]\n",
      "lambda = 0.27995470003304446 , accuracy = [0.66459683]\n",
      "lambda = 0.37149857228423705 , accuracy = [0.66459683]\n",
      "lambda = 0.4929768608740504 , accuracy = [0.66459683]\n",
      "lambda = 0.6541779793740121 , accuracy = [0.66459683]\n",
      "lambda = 0.8680911066274185 , accuracy = [0.66459683]\n",
      "lambda = 1.151952821962495 , accuracy = [0.66459683]\n",
      "lambda = 1.5286359852052918 , accuracy = [0.66462661]\n",
      "lambda = 2.0284927739346554 , accuracy = [0.66459683]\n",
      "lambda = 2.6918003852647128 , accuracy = [0.66462661]\n",
      "lambda = 3.5720064706253014 , accuracy = [0.66461172]\n",
      "lambda = 4.74003581247511 , accuracy = [0.66461172]\n",
      "lambda = 6.290005264075964 , accuracy = [0.66458194]\n",
      "lambda = 8.346807447736152 , accuracy = [0.66465639]\n",
      "lambda = 11.076174286766435 , accuracy = [0.66484997]\n",
      "lambda = 14.698031265127607 , accuracy = [0.66499888]\n",
      "lambda = 19.504218467271617 , accuracy = [0.66526692]\n",
      "lambda = 25.88200631479307 , accuracy = [0.66540094]\n",
      "lambda = 34.34530083853678 , accuracy = [0.66589234]\n",
      "lambda = 45.57605292814517 , accuracy = [0.66621994]\n",
      "lambda = 60.479208211750866 , accuracy = [0.66651776]\n",
      "lambda = 80.2556252882861 , accuracy = [0.66681558]\n",
      "lambda = 106.49883787933477 , accuracy = [0.66730698]\n",
      "lambda = 141.32345775024794 , accuracy = [0.6677686]\n",
      "lambda = 187.53556478348744 , accuracy = [0.66849825]\n",
      "lambda = 248.85881380580645 , accuracy = [0.66997245]\n",
      "lambda = 330.23447728612325 , accuracy = [0.67116373]\n",
      "lambda = 438.21960058661415 , accuracy = [0.67295064]\n",
      "lambda = 581.5153521111805 , accuracy = [0.6741568]\n",
      "lambda = 771.6681414713509 , accuracy = [0.67592882]\n",
      "lambda = 1024.0 , accuracy = [0.67773062]\n"
     ]
    }
   ],
   "source": [
    "for lam in Lambda:\n",
    "    w = VT.T@np.linalg.inv(np.diag(s**2)+lam*np.eye(7))@U.T@y_train\n",
    "    y_hat = np.sign(X_train@w)\n",
    "    error_rate = np.sum(y_hat != y_train)/y_train.shape\n",
    "    accuracy = 1 - error_rate\n",
    "    print (\"lambda =\", lam, \", accuracy =\", accuracy)"
   ]
  },
  {
   "cell_type": "code",
   "execution_count": null,
   "metadata": {},
   "outputs": [],
   "source": []
  }
 ],
 "metadata": {
  "kernelspec": {
   "display_name": "Python 3",
   "language": "python",
   "name": "python3"
  },
  "language_info": {
   "codemirror_mode": {
    "name": "ipython",
    "version": 3
   },
   "file_extension": ".py",
   "mimetype": "text/x-python",
   "name": "python",
   "nbconvert_exporter": "python",
   "pygments_lexer": "ipython3",
   "version": "3.7.6"
  }
 },
 "nbformat": 4,
 "nbformat_minor": 4
}
